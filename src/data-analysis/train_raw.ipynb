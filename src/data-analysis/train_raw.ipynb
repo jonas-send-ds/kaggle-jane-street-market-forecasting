{
 "cells": [
  {
   "cell_type": "code",
   "id": "initial_id",
   "metadata": {
    "collapsed": true,
    "ExecuteTime": {
     "end_time": "2024-11-25T13:18:21.279362Z",
     "start_time": "2024-11-25T13:18:21.276417Z"
    }
   },
   "source": [
    "import polars as pl\n",
    "\n",
    "from src.util.constants import DATA_PATH"
   ],
   "outputs": [],
   "execution_count": 7
  },
  {
   "metadata": {
    "ExecuteTime": {
     "end_time": "2024-11-25T13:15:06.662986Z",
     "start_time": "2024-11-25T13:15:06.442295Z"
    }
   },
   "cell_type": "code",
   "source": "df_train = pl.read_parquet(f\"{DATA_PATH}/raw/train.parquet/partition_id=0/part-0.parquet\")",
   "id": "374372d0c2ddffc1",
   "outputs": [],
   "execution_count": 2
  },
  {
   "metadata": {
    "ExecuteTime": {
     "end_time": "2024-11-25T13:15:11.878672Z",
     "start_time": "2024-11-25T13:15:11.868259Z"
    }
   },
   "cell_type": "code",
   "source": "df_train",
   "id": "39fbc2ed7c326516",
   "outputs": [
    {
     "data": {
      "text/plain": [
       "shape: (1_944_210, 92)\n",
       "┌─────────┬─────────┬───────────┬──────────┬───┬────────────┬────────────┬────────────┬────────────┐\n",
       "│ date_id ┆ time_id ┆ symbol_id ┆ weight   ┆ … ┆ responder_ ┆ responder_ ┆ responder_ ┆ responder_ │\n",
       "│ ---     ┆ ---     ┆ ---       ┆ ---      ┆   ┆ 5          ┆ 6          ┆ 7          ┆ 8          │\n",
       "│ i16     ┆ i16     ┆ i8        ┆ f32      ┆   ┆ ---        ┆ ---        ┆ ---        ┆ ---        │\n",
       "│         ┆         ┆           ┆          ┆   ┆ f32        ┆ f32        ┆ f32        ┆ f32        │\n",
       "╞═════════╪═════════╪═══════════╪══════════╪═══╪════════════╪════════════╪════════════╪════════════╡\n",
       "│ 0       ┆ 0       ┆ 1         ┆ 3.889038 ┆ … ┆ 1.218368   ┆ 0.775981   ┆ 0.346999   ┆ 0.095504   │\n",
       "│ 0       ┆ 0       ┆ 7         ┆ 1.370613 ┆ … ┆ 5.0        ┆ 0.703665   ┆ 0.216683   ┆ 0.778639   │\n",
       "│ 0       ┆ 0       ┆ 9         ┆ 2.285698 ┆ … ┆ 0.099793   ┆ 2.109352   ┆ 0.670881   ┆ 0.772828   │\n",
       "│ 0       ┆ 0       ┆ 10        ┆ 0.690606 ┆ … ┆ 1.225376   ┆ 1.114137   ┆ 0.775199   ┆ -1.379516  │\n",
       "│ 0       ┆ 0       ┆ 14        ┆ 0.44057  ┆ … ┆ -5.0       ┆ -3.57282   ┆ -1.089123  ┆ -5.0       │\n",
       "│ …       ┆ …       ┆ …         ┆ …        ┆ … ┆ …          ┆ …          ┆ …          ┆ …          │\n",
       "│ 169     ┆ 848     ┆ 19        ┆ 3.438631 ┆ … ┆ 1.070584   ┆ 0.465345   ┆ 0.207483   ┆ 0.874975   │\n",
       "│ 169     ┆ 848     ┆ 30        ┆ 0.768528 ┆ … ┆ 1.846634   ┆ -0.088542  ┆ -0.008324  ┆ -0.153451  │\n",
       "│ 169     ┆ 848     ┆ 33        ┆ 1.354696 ┆ … ┆ -3.349107  ┆ -0.407801  ┆ -0.185842  ┆ -0.931004  │\n",
       "│ 169     ┆ 848     ┆ 34        ┆ 1.021797 ┆ … ┆ 3.248694   ┆ 0.254584   ┆ 0.090288   ┆ 0.434726   │\n",
       "│ 169     ┆ 848     ┆ 38        ┆ 1.570022 ┆ … ┆ -0.791345  ┆ 0.3474     ┆ 0.241875   ┆ 0.987731   │\n",
       "└─────────┴─────────┴───────────┴──────────┴───┴────────────┴────────────┴────────────┴────────────┘"
      ],
      "text/html": [
       "<div><style>\n",
       ".dataframe > thead > tr,\n",
       ".dataframe > tbody > tr {\n",
       "  text-align: right;\n",
       "  white-space: pre-wrap;\n",
       "}\n",
       "</style>\n",
       "<small>shape: (1_944_210, 92)</small><table border=\"1\" class=\"dataframe\"><thead><tr><th>date_id</th><th>time_id</th><th>symbol_id</th><th>weight</th><th>feature_00</th><th>feature_01</th><th>feature_02</th><th>feature_03</th><th>feature_04</th><th>feature_05</th><th>feature_06</th><th>feature_07</th><th>feature_08</th><th>feature_09</th><th>feature_10</th><th>feature_11</th><th>feature_12</th><th>feature_13</th><th>feature_14</th><th>feature_15</th><th>feature_16</th><th>feature_17</th><th>feature_18</th><th>feature_19</th><th>feature_20</th><th>feature_21</th><th>feature_22</th><th>feature_23</th><th>feature_24</th><th>feature_25</th><th>feature_26</th><th>feature_27</th><th>feature_28</th><th>feature_29</th><th>feature_30</th><th>feature_31</th><th>feature_32</th><th>&hellip;</th><th>feature_51</th><th>feature_52</th><th>feature_53</th><th>feature_54</th><th>feature_55</th><th>feature_56</th><th>feature_57</th><th>feature_58</th><th>feature_59</th><th>feature_60</th><th>feature_61</th><th>feature_62</th><th>feature_63</th><th>feature_64</th><th>feature_65</th><th>feature_66</th><th>feature_67</th><th>feature_68</th><th>feature_69</th><th>feature_70</th><th>feature_71</th><th>feature_72</th><th>feature_73</th><th>feature_74</th><th>feature_75</th><th>feature_76</th><th>feature_77</th><th>feature_78</th><th>responder_0</th><th>responder_1</th><th>responder_2</th><th>responder_3</th><th>responder_4</th><th>responder_5</th><th>responder_6</th><th>responder_7</th><th>responder_8</th></tr><tr><td>i16</td><td>i16</td><td>i8</td><td>f32</td><td>f32</td><td>f32</td><td>f32</td><td>f32</td><td>f32</td><td>f32</td><td>f32</td><td>f32</td><td>f32</td><td>i8</td><td>i8</td><td>i16</td><td>f32</td><td>f32</td><td>f32</td><td>f32</td><td>f32</td><td>f32</td><td>f32</td><td>f32</td><td>f32</td><td>f32</td><td>f32</td><td>f32</td><td>f32</td><td>f32</td><td>f32</td><td>f32</td><td>f32</td><td>f32</td><td>f32</td><td>f32</td><td>f32</td><td>&hellip;</td><td>f32</td><td>f32</td><td>f32</td><td>f32</td><td>f32</td><td>f32</td><td>f32</td><td>f32</td><td>f32</td><td>f32</td><td>f32</td><td>f32</td><td>f32</td><td>f32</td><td>f32</td><td>f32</td><td>f32</td><td>f32</td><td>f32</td><td>f32</td><td>f32</td><td>f32</td><td>f32</td><td>f32</td><td>f32</td><td>f32</td><td>f32</td><td>f32</td><td>f32</td><td>f32</td><td>f32</td><td>f32</td><td>f32</td><td>f32</td><td>f32</td><td>f32</td><td>f32</td></tr></thead><tbody><tr><td>0</td><td>0</td><td>1</td><td>3.889038</td><td>null</td><td>null</td><td>null</td><td>null</td><td>null</td><td>0.851033</td><td>0.242971</td><td>0.2634</td><td>-0.891687</td><td>11</td><td>7</td><td>76</td><td>-0.883028</td><td>0.003067</td><td>-0.744703</td><td>null</td><td>-0.169586</td><td>null</td><td>-1.335938</td><td>-1.707803</td><td>0.91013</td><td>null</td><td>1.636431</td><td>1.522133</td><td>-1.551398</td><td>-0.229627</td><td>null</td><td>null</td><td>1.378301</td><td>-0.283712</td><td>0.123196</td><td>null</td><td>null</td><td>&hellip;</td><td>0.204797</td><td>null</td><td>null</td><td>-0.808103</td><td>null</td><td>-2.037683</td><td>0.727661</td><td>null</td><td>-0.989118</td><td>-0.345213</td><td>-1.36224</td><td>null</td><td>null</td><td>null</td><td>null</td><td>null</td><td>-1.251104</td><td>-0.110252</td><td>-0.491157</td><td>-1.02269</td><td>0.152241</td><td>-0.659864</td><td>null</td><td>null</td><td>-0.261412</td><td>-0.211486</td><td>-0.335556</td><td>-0.281498</td><td>0.738489</td><td>-0.069556</td><td>1.380875</td><td>2.005353</td><td>0.186018</td><td>1.218368</td><td>0.775981</td><td>0.346999</td><td>0.095504</td></tr><tr><td>0</td><td>0</td><td>7</td><td>1.370613</td><td>null</td><td>null</td><td>null</td><td>null</td><td>null</td><td>0.676961</td><td>0.151984</td><td>0.192465</td><td>-0.521729</td><td>11</td><td>7</td><td>76</td><td>-0.865307</td><td>-0.225629</td><td>-0.582163</td><td>null</td><td>0.317467</td><td>null</td><td>-1.250016</td><td>-1.682929</td><td>1.412757</td><td>null</td><td>0.520378</td><td>0.744132</td><td>-0.788658</td><td>0.641776</td><td>null</td><td>null</td><td>0.2272</td><td>0.580907</td><td>1.128879</td><td>null</td><td>null</td><td>&hellip;</td><td>1.172836</td><td>null</td><td>null</td><td>-1.625862</td><td>null</td><td>-1.410017</td><td>1.063013</td><td>null</td><td>0.888355</td><td>0.467994</td><td>-1.36224</td><td>null</td><td>null</td><td>null</td><td>null</td><td>null</td><td>-1.065759</td><td>0.013322</td><td>-0.592855</td><td>-1.052685</td><td>-0.393726</td><td>-0.741603</td><td>null</td><td>null</td><td>-0.281207</td><td>-0.182894</td><td>-0.245565</td><td>-0.302441</td><td>2.965889</td><td>1.190077</td><td>-0.523998</td><td>3.849921</td><td>2.626981</td><td>5.0</td><td>0.703665</td><td>0.216683</td><td>0.778639</td></tr><tr><td>0</td><td>0</td><td>9</td><td>2.285698</td><td>null</td><td>null</td><td>null</td><td>null</td><td>null</td><td>1.056285</td><td>0.187227</td><td>0.249901</td><td>-0.77305</td><td>11</td><td>7</td><td>76</td><td>-0.675719</td><td>-0.199404</td><td>-0.586798</td><td>null</td><td>-0.814909</td><td>null</td><td>-1.296782</td><td>-2.040234</td><td>0.639589</td><td>null</td><td>1.597359</td><td>0.657514</td><td>-1.350148</td><td>0.364215</td><td>null</td><td>null</td><td>-0.017751</td><td>-0.317361</td><td>-0.122379</td><td>null</td><td>null</td><td>&hellip;</td><td>0.535897</td><td>null</td><td>null</td><td>-0.72542</td><td>null</td><td>-2.29417</td><td>1.764551</td><td>null</td><td>-0.120789</td><td>-0.063458</td><td>-1.36224</td><td>null</td><td>null</td><td>null</td><td>null</td><td>null</td><td>-0.882604</td><td>-0.072482</td><td>-0.617934</td><td>-0.86323</td><td>-0.241892</td><td>-0.709919</td><td>null</td><td>null</td><td>0.377131</td><td>0.300724</td><td>-0.106842</td><td>-0.096792</td><td>-0.864488</td><td>-0.280303</td><td>-0.326697</td><td>0.375781</td><td>1.271291</td><td>0.099793</td><td>2.109352</td><td>0.670881</td><td>0.772828</td></tr><tr><td>0</td><td>0</td><td>10</td><td>0.690606</td><td>null</td><td>null</td><td>null</td><td>null</td><td>null</td><td>1.139366</td><td>0.273328</td><td>0.306549</td><td>-1.262223</td><td>42</td><td>5</td><td>150</td><td>-0.694008</td><td>3.004091</td><td>0.114809</td><td>null</td><td>-0.251882</td><td>null</td><td>-1.902009</td><td>-0.979447</td><td>0.241165</td><td>null</td><td>-0.392359</td><td>-0.224699</td><td>-2.129397</td><td>-0.855287</td><td>null</td><td>null</td><td>0.404142</td><td>-0.578156</td><td>0.105702</td><td>null</td><td>null</td><td>&hellip;</td><td>2.413415</td><td>null</td><td>null</td><td>1.313203</td><td>null</td><td>-0.810125</td><td>2.939022</td><td>null</td><td>3.988801</td><td>1.834661</td><td>-1.36224</td><td>null</td><td>null</td><td>null</td><td>null</td><td>null</td><td>-0.697595</td><td>1.074309</td><td>-0.206929</td><td>-0.530602</td><td>4.765215</td><td>0.571554</td><td>null</td><td>null</td><td>-0.226891</td><td>-0.251412</td><td>-0.215522</td><td>-0.296244</td><td>0.408499</td><td>0.223992</td><td>2.294888</td><td>1.097444</td><td>1.225872</td><td>1.225376</td><td>1.114137</td><td>0.775199</td><td>-1.379516</td></tr><tr><td>0</td><td>0</td><td>14</td><td>0.44057</td><td>null</td><td>null</td><td>null</td><td>null</td><td>null</td><td>0.9552</td><td>0.262404</td><td>0.344457</td><td>-0.613813</td><td>44</td><td>3</td><td>16</td><td>-0.947351</td><td>-0.030018</td><td>-0.502379</td><td>null</td><td>0.646086</td><td>null</td><td>-1.844685</td><td>-1.58656</td><td>-0.182024</td><td>null</td><td>-0.969949</td><td>-0.673813</td><td>-1.282132</td><td>-1.399894</td><td>null</td><td>null</td><td>0.043815</td><td>-0.320225</td><td>-0.031713</td><td>null</td><td>null</td><td>&hellip;</td><td>1.253902</td><td>null</td><td>null</td><td>0.476195</td><td>null</td><td>-0.771732</td><td>2.843421</td><td>null</td><td>1.379815</td><td>0.411827</td><td>-1.36224</td><td>null</td><td>null</td><td>null</td><td>null</td><td>null</td><td>-0.948601</td><td>-0.136814</td><td>-0.447704</td><td>-1.141761</td><td>0.099631</td><td>-0.661928</td><td>null</td><td>null</td><td>3.678076</td><td>2.793581</td><td>2.61825</td><td>3.418133</td><td>-0.373387</td><td>-0.502764</td><td>-0.348021</td><td>-3.928148</td><td>-1.591366</td><td>-5.0</td><td>-3.57282</td><td>-1.089123</td><td>-5.0</td></tr><tr><td>&hellip;</td><td>&hellip;</td><td>&hellip;</td><td>&hellip;</td><td>&hellip;</td><td>&hellip;</td><td>&hellip;</td><td>&hellip;</td><td>&hellip;</td><td>&hellip;</td><td>&hellip;</td><td>&hellip;</td><td>&hellip;</td><td>&hellip;</td><td>&hellip;</td><td>&hellip;</td><td>&hellip;</td><td>&hellip;</td><td>&hellip;</td><td>&hellip;</td><td>&hellip;</td><td>&hellip;</td><td>&hellip;</td><td>&hellip;</td><td>&hellip;</td><td>&hellip;</td><td>&hellip;</td><td>&hellip;</td><td>&hellip;</td><td>&hellip;</td><td>&hellip;</td><td>&hellip;</td><td>&hellip;</td><td>&hellip;</td><td>&hellip;</td><td>&hellip;</td><td>&hellip;</td><td>&hellip;</td><td>&hellip;</td><td>&hellip;</td><td>&hellip;</td><td>&hellip;</td><td>&hellip;</td><td>&hellip;</td><td>&hellip;</td><td>&hellip;</td><td>&hellip;</td><td>&hellip;</td><td>&hellip;</td><td>&hellip;</td><td>&hellip;</td><td>&hellip;</td><td>&hellip;</td><td>&hellip;</td><td>&hellip;</td><td>&hellip;</td><td>&hellip;</td><td>&hellip;</td><td>&hellip;</td><td>&hellip;</td><td>&hellip;</td><td>&hellip;</td><td>&hellip;</td><td>&hellip;</td><td>&hellip;</td><td>&hellip;</td><td>&hellip;</td><td>&hellip;</td><td>&hellip;</td><td>&hellip;</td><td>&hellip;</td><td>&hellip;</td><td>&hellip;</td><td>&hellip;</td><td>&hellip;</td></tr><tr><td>169</td><td>848</td><td>19</td><td>3.438631</td><td>null</td><td>null</td><td>null</td><td>null</td><td>null</td><td>-0.028087</td><td>0.287438</td><td>0.118074</td><td>-0.644495</td><td>4</td><td>3</td><td>11</td><td>3.419741</td><td>0.997164</td><td>1.706084</td><td>-0.318914</td><td>-0.461119</td><td>-0.294792</td><td>1.929656</td><td>1.213011</td><td>1.16521</td><td>null</td><td>3.431933</td><td>0.792091</td><td>-0.961323</td><td>0.197048</td><td>null</td><td>null</td><td>0.258624</td><td>-0.538528</td><td>-0.306105</td><td>null</td><td>0.12894</td><td>&hellip;</td><td>-1.942191</td><td>0.445592</td><td>-1.414607</td><td>-1.362255</td><td>-0.760373</td><td>-0.199131</td><td>-2.412528</td><td>-1.033167</td><td>-2.285751</td><td>0.406769</td><td>0.300441</td><td>-0.072687</td><td>0.114416</td><td>0.200983</td><td>2.923207</td><td>1.137057</td><td>5.132564</td><td>0.726686</td><td>1.304514</td><td>3.247437</td><td>0.631181</td><td>2.437627</td><td>-0.341539</td><td>-0.360914</td><td>-0.267972</td><td>-0.253485</td><td>-0.147347</td><td>-0.166964</td><td>0.983339</td><td>-0.66986</td><td>0.272615</td><td>-3.676842</td><td>-1.221126</td><td>1.070584</td><td>0.465345</td><td>0.207483</td><td>0.874975</td></tr><tr><td>169</td><td>848</td><td>30</td><td>0.768528</td><td>null</td><td>null</td><td>null</td><td>null</td><td>null</td><td>-0.022584</td><td>0.442352</td><td>0.140746</td><td>-0.571057</td><td>81</td><td>2</td><td>534</td><td>0.385333</td><td>0.732816</td><td>0.155896</td><td>0.202543</td><td>0.930962</td><td>0.721754</td><td>-0.865098</td><td>0.108584</td><td>-0.640984</td><td>null</td><td>-0.876378</td><td>-1.044793</td><td>-1.282868</td><td>-0.355638</td><td>null</td><td>null</td><td>0.776003</td><td>-0.126703</td><td>0.290924</td><td>null</td><td>-0.123493</td><td>&hellip;</td><td>1.210106</td><td>0.012775</td><td>-0.743068</td><td>0.18959</td><td>0.866432</td><td>0.588312</td><td>-0.599171</td><td>0.269633</td><td>0.248799</td><td>0.33105</td><td>0.300441</td><td>1.796084</td><td>2.408884</td><td>1.916744</td><td>0.658252</td><td>0.340445</td><td>0.652627</td><td>-0.216905</td><td>-0.185448</td><td>0.521877</td><td>1.35906</td><td>0.494098</td><td>-0.20115</td><td>-0.289628</td><td>-0.476703</td><td>-0.373956</td><td>-0.356012</td><td>-0.35281</td><td>0.992615</td><td>0.961595</td><td>1.089402</td><td>0.796034</td><td>0.48838</td><td>1.846634</td><td>-0.088542</td><td>-0.008324</td><td>-0.153451</td></tr><tr><td>169</td><td>848</td><td>33</td><td>1.354696</td><td>null</td><td>null</td><td>null</td><td>null</td><td>null</td><td>-0.024804</td><td>0.420692</td><td>0.136259</td><td>-0.809642</td><td>11</td><td>7</td><td>76</td><td>-0.200244</td><td>-0.409379</td><td>-0.185599</td><td>0.234811</td><td>0.160243</td><td>0.110508</td><td>-0.959411</td><td>1.392733</td><td>2.161604</td><td>null</td><td>-0.219788</td><td>-0.040412</td><td>-1.940056</td><td>-0.637217</td><td>null</td><td>null</td><td>0.481473</td><td>-0.211353</td><td>0.417266</td><td>null</td><td>-0.111355</td><td>&hellip;</td><td>1.093185</td><td>1.355752</td><td>0.86659</td><td>-0.543416</td><td>-0.557341</td><td>1.018626</td><td>-0.53542</td><td>-0.299109</td><td>-0.135551</td><td>0.302495</td><td>0.300441</td><td>1.178458</td><td>1.963925</td><td>2.115989</td><td>2.300967</td><td>1.213972</td><td>-0.375353</td><td>-0.315288</td><td>-0.377317</td><td>-0.018499</td><td>-0.303676</td><td>0.042694</td><td>-0.304563</td><td>-0.274469</td><td>-0.339679</td><td>-0.301338</td><td>-0.323033</td><td>-0.239716</td><td>1.701618</td><td>0.757672</td><td>-5.0</td><td>-3.174266</td><td>-1.11079</td><td>-3.349107</td><td>-0.407801</td><td>-0.185842</td><td>-0.931004</td></tr><tr><td>169</td><td>848</td><td>34</td><td>1.021797</td><td>null</td><td>null</td><td>null</td><td>null</td><td>null</td><td>-0.016138</td><td>0.303561</td><td>0.14997</td><td>-0.727993</td><td>42</td><td>5</td><td>150</td><td>0.089536</td><td>-0.318639</td><td>0.229737</td><td>-0.359855</td><td>-0.135196</td><td>-0.361641</td><td>-1.061814</td><td>1.642337</td><td>0.124642</td><td>null</td><td>-0.523115</td><td>-0.88477</td><td>-1.407083</td><td>-0.564234</td><td>null</td><td>null</td><td>1.599255</td><td>-0.414362</td><td>-0.21513</td><td>null</td><td>-0.042788</td><td>&hellip;</td><td>0.002777</td><td>0.034642</td><td>0.414592</td><td>0.217866</td><td>-0.189608</td><td>1.401886</td><td>0.302604</td><td>0.711625</td><td>-0.181922</td><td>0.214608</td><td>0.300441</td><td>0.255725</td><td>0.576029</td><td>0.445959</td><td>-0.53101</td><td>1.331284</td><td>0.162807</td><td>-0.20295</td><td>0.06306</td><td>0.219878</td><td>-0.271476</td><td>0.315763</td><td>-0.519676</td><td>-0.716094</td><td>-0.497245</td><td>-0.320908</td><td>-0.486542</td><td>-0.442859</td><td>-2.036891</td><td>-0.064228</td><td>1.919665</td><td>1.827681</td><td>0.872019</td><td>3.248694</td><td>0.254584</td><td>0.090288</td><td>0.434726</td></tr><tr><td>169</td><td>848</td><td>38</td><td>1.570022</td><td>null</td><td>null</td><td>null</td><td>null</td><td>null</td><td>-0.017634</td><td>0.271368</td><td>0.128993</td><td>-0.611178</td><td>50</td><td>1</td><td>522</td><td>0.858832</td><td>2.573905</td><td>1.143107</td><td>-0.071363</td><td>0.14384</td><td>-0.015339</td><td>-0.791542</td><td>2.087125</td><td>1.837453</td><td>null</td><td>-0.051464</td><td>0.011945</td><td>-0.639944</td><td>0.34263</td><td>null</td><td>null</td><td>0.914254</td><td>-0.400201</td><td>-0.11904</td><td>null</td><td>0.013682</td><td>&hellip;</td><td>0.289495</td><td>-0.10213</td><td>0.188333</td><td>0.511473</td><td>-0.710926</td><td>0.661158</td><td>0.226204</td><td>0.044134</td><td>0.386667</td><td>0.087507</td><td>0.300441</td><td>-0.32837</td><td>-0.096137</td><td>-0.271381</td><td>-0.75118</td><td>2.268737</td><td>0.12411</td><td>0.063276</td><td>0.248291</td><td>2.183975</td><td>4.698049</td><td>3.342008</td><td>-0.18195</td><td>-0.143228</td><td>-0.194399</td><td>-0.230857</td><td>-0.219675</td><td>-0.174461</td><td>0.32323</td><td>0.018376</td><td>-3.457667</td><td>-0.305218</td><td>-0.181438</td><td>-0.791345</td><td>0.3474</td><td>0.241875</td><td>0.987731</td></tr></tbody></table></div>"
      ]
     },
     "execution_count": 3,
     "metadata": {},
     "output_type": "execute_result"
    }
   ],
   "execution_count": 3
  },
  {
   "metadata": {
    "ExecuteTime": {
     "end_time": "2024-11-25T13:27:53.481041Z",
     "start_time": "2024-11-25T13:27:53.477452Z"
    }
   },
   "cell_type": "code",
   "source": "df_train.dtypes",
   "id": "6d4c81e2aa43f4ef",
   "outputs": [
    {
     "data": {
      "text/plain": [
       "[Int16,\n",
       " Int16,\n",
       " Int8,\n",
       " Float32,\n",
       " Float32,\n",
       " Float32,\n",
       " Float32,\n",
       " Float32,\n",
       " Float32,\n",
       " Float32,\n",
       " Float32,\n",
       " Float32,\n",
       " Float32,\n",
       " Int8,\n",
       " Int8,\n",
       " Int16,\n",
       " Float32,\n",
       " Float32,\n",
       " Float32,\n",
       " Float32,\n",
       " Float32,\n",
       " Float32,\n",
       " Float32,\n",
       " Float32,\n",
       " Float32,\n",
       " Float32,\n",
       " Float32,\n",
       " Float32,\n",
       " Float32,\n",
       " Float32,\n",
       " Float32,\n",
       " Float32,\n",
       " Float32,\n",
       " Float32,\n",
       " Float32,\n",
       " Float32,\n",
       " Float32,\n",
       " Float32,\n",
       " Float32,\n",
       " Float32,\n",
       " Float32,\n",
       " Float32,\n",
       " Float32,\n",
       " Float32,\n",
       " Float32,\n",
       " Float32,\n",
       " Float32,\n",
       " Float32,\n",
       " Float32,\n",
       " Float32,\n",
       " Float32,\n",
       " Float32,\n",
       " Float32,\n",
       " Float32,\n",
       " Float32,\n",
       " Float32,\n",
       " Float32,\n",
       " Float32,\n",
       " Float32,\n",
       " Float32,\n",
       " Float32,\n",
       " Float32,\n",
       " Float32,\n",
       " Float32,\n",
       " Float32,\n",
       " Float32,\n",
       " Float32,\n",
       " Float32,\n",
       " Float32,\n",
       " Float32,\n",
       " Float32,\n",
       " Float32,\n",
       " Float32,\n",
       " Float32,\n",
       " Float32,\n",
       " Float32,\n",
       " Float32,\n",
       " Float32,\n",
       " Float32,\n",
       " Float32,\n",
       " Float32,\n",
       " Float32,\n",
       " Float32,\n",
       " Float32,\n",
       " Float32,\n",
       " Float32,\n",
       " Float32,\n",
       " Float32,\n",
       " Float32,\n",
       " Float32,\n",
       " Float32,\n",
       " Float32]"
      ]
     },
     "execution_count": 12,
     "metadata": {},
     "output_type": "execute_result"
    }
   ],
   "execution_count": 12
  },
  {
   "metadata": {
    "ExecuteTime": {
     "end_time": "2024-11-25T13:36:08.417401Z",
     "start_time": "2024-11-25T13:35:22.163838Z"
    }
   },
   "cell_type": "code",
   "source": "",
   "id": "e52e4ee6b671a46",
   "outputs": [
    {
     "name": "stdout",
     "output_type": "stream",
     "text": [
      "feature: 0\n",
      "feature 0 contains NaNs, breaking the loop.\n",
      "feature: 1\n",
      "feature 1 contains NaNs, breaking the loop.\n",
      "feature: 2\n",
      "feature 2 contains NaNs, breaking the loop.\n",
      "feature: 3\n",
      "feature 3 contains NaNs, breaking the loop.\n",
      "feature: 4\n",
      "feature 4 contains NaNs, breaking the loop.\n",
      "feature: 5\n",
      "cor: -0.03558647461365758\n",
      "dcor: 0.07174363323653117\n",
      "feature: 6\n",
      "cor: -0.08768111281580954\n"
     ]
    },
    {
     "ename": "KeyboardInterrupt",
     "evalue": "",
     "output_type": "error",
     "traceback": [
      "\u001B[0;31m---------------------------------------------------------------------------\u001B[0m",
      "\u001B[0;31mKeyboardInterrupt\u001B[0m                         Traceback (most recent call last)",
      "Cell \u001B[0;32mIn[22], line 16\u001B[0m\n\u001B[1;32m     14\u001B[0m responder_col \u001B[38;5;241m=\u001B[39m df_train[\u001B[38;5;124m'\u001B[39m\u001B[38;5;124mresponder_6\u001B[39m\u001B[38;5;124m'\u001B[39m]\n\u001B[1;32m     15\u001B[0m \u001B[38;5;28mprint\u001B[39m(\u001B[38;5;124mf\u001B[39m\u001B[38;5;124m\"\u001B[39m\u001B[38;5;124mcor: \u001B[39m\u001B[38;5;132;01m{\u001B[39;00mnp\u001B[38;5;241m.\u001B[39mcorrcoef(feature_col\u001B[38;5;241m.\u001B[39mto_numpy(),\u001B[38;5;250m \u001B[39mresponder_col\u001B[38;5;241m.\u001B[39mto_numpy())[\u001B[38;5;241m0\u001B[39m,\u001B[38;5;250m \u001B[39m\u001B[38;5;241m1\u001B[39m]\u001B[38;5;132;01m}\u001B[39;00m\u001B[38;5;124m\"\u001B[39m)\n\u001B[0;32m---> 16\u001B[0m \u001B[38;5;28mprint\u001B[39m(\u001B[38;5;124mf\u001B[39m\u001B[38;5;124m\"\u001B[39m\u001B[38;5;124mdcor: \u001B[39m\u001B[38;5;132;01m{\u001B[39;00mdcor\u001B[38;5;241m.\u001B[39mdistance_correlation(feature_col\u001B[38;5;241m.\u001B[39mto_numpy(),\u001B[38;5;250m \u001B[39mresponder_col\u001B[38;5;241m.\u001B[39mto_numpy())\u001B[38;5;132;01m}\u001B[39;00m\u001B[38;5;124m\"\u001B[39m)\n",
      "File \u001B[0;32m/opt/anaconda3/envs/kaggle-jane-street/lib/python3.12/site-packages/dcor/_dcor.py:1027\u001B[0m, in \u001B[0;36mdistance_correlation\u001B[0;34m(x, y, exponent, method, compile_mode)\u001B[0m\n\u001B[1;32m    976\u001B[0m \u001B[38;5;28;01mdef\u001B[39;00m \u001B[38;5;21mdistance_correlation\u001B[39m(\n\u001B[1;32m    977\u001B[0m     x: Array,\n\u001B[1;32m    978\u001B[0m     y: Array,\n\u001B[0;32m   (...)\u001B[0m\n\u001B[1;32m    982\u001B[0m     compile_mode: CompileMode \u001B[38;5;241m=\u001B[39m CompileMode\u001B[38;5;241m.\u001B[39mAUTO,\n\u001B[1;32m    983\u001B[0m ) \u001B[38;5;241m-\u001B[39m\u001B[38;5;241m>\u001B[39m Array:\n\u001B[1;32m    984\u001B[0m \u001B[38;5;250m    \u001B[39m\u001B[38;5;124;03m\"\"\"\u001B[39;00m\n\u001B[1;32m    985\u001B[0m \u001B[38;5;124;03m    Usual (biased) estimator for the distance correlation.\u001B[39;00m\n\u001B[1;32m    986\u001B[0m \n\u001B[0;32m   (...)\u001B[0m\n\u001B[1;32m   1024\u001B[0m \n\u001B[1;32m   1025\u001B[0m \u001B[38;5;124;03m    \"\"\"\u001B[39;00m\n\u001B[1;32m   1026\u001B[0m     \u001B[38;5;28;01mreturn\u001B[39;00m _sqrt(\n\u001B[0;32m-> 1027\u001B[0m         distance_correlation_sqr(\n\u001B[1;32m   1028\u001B[0m             x,\n\u001B[1;32m   1029\u001B[0m             y,\n\u001B[1;32m   1030\u001B[0m             exponent\u001B[38;5;241m=\u001B[39mexponent,\n\u001B[1;32m   1031\u001B[0m             method\u001B[38;5;241m=\u001B[39mmethod,\n\u001B[1;32m   1032\u001B[0m             compile_mode\u001B[38;5;241m=\u001B[39mcompile_mode,\n\u001B[1;32m   1033\u001B[0m         ),\n\u001B[1;32m   1034\u001B[0m     )\n",
      "File \u001B[0;32m/opt/anaconda3/envs/kaggle-jane-street/lib/python3.12/site-packages/dcor/_dcor.py:905\u001B[0m, in \u001B[0;36mdistance_correlation_sqr\u001B[0;34m(x, y, exponent, method, compile_mode)\u001B[0m\n\u001B[1;32m    861\u001B[0m \u001B[38;5;250m\u001B[39m\u001B[38;5;124;03m\"\"\"\u001B[39;00m\n\u001B[1;32m    862\u001B[0m \u001B[38;5;124;03mUsual (biased) estimator for the squared distance correlation.\u001B[39;00m\n\u001B[1;32m    863\u001B[0m \n\u001B[0;32m   (...)\u001B[0m\n\u001B[1;32m    901\u001B[0m \n\u001B[1;32m    902\u001B[0m \u001B[38;5;124;03m\"\"\"\u001B[39;00m\n\u001B[1;32m    903\u001B[0m method \u001B[38;5;241m=\u001B[39m _to_algorithm(method)\n\u001B[0;32m--> 905\u001B[0m \u001B[38;5;28;01mreturn\u001B[39;00m method\u001B[38;5;241m.\u001B[39mvalue\u001B[38;5;241m.\u001B[39mstats_sqr(\n\u001B[1;32m    906\u001B[0m     x,\n\u001B[1;32m    907\u001B[0m     y,\n\u001B[1;32m    908\u001B[0m     exponent\u001B[38;5;241m=\u001B[39mexponent,\n\u001B[1;32m    909\u001B[0m     compile_mode\u001B[38;5;241m=\u001B[39mcompile_mode,\n\u001B[1;32m    910\u001B[0m )\u001B[38;5;241m.\u001B[39mcorrelation_xy\n",
      "File \u001B[0;32m/opt/anaconda3/envs/kaggle-jane-street/lib/python3.12/site-packages/dcor/_dcor.py:254\u001B[0m, in \u001B[0;36m_DcovAlgorithmInternals.stats_sqr\u001B[0;34m(self, x, y, bias_corrected, exponent, compile_mode)\u001B[0m\n\u001B[1;32m    243\u001B[0m \u001B[38;5;250m\u001B[39m\u001B[38;5;124;03m\"\"\"Compute generic squared stats.\"\"\"\u001B[39;00m\n\u001B[1;32m    244\u001B[0m n_samples \u001B[38;5;241m=\u001B[39m x\u001B[38;5;241m.\u001B[39mshape[\u001B[38;5;241m0\u001B[39m]\n\u001B[1;32m    246\u001B[0m (\n\u001B[1;32m    247\u001B[0m     mean_prod,\n\u001B[1;32m    248\u001B[0m     a_axis_sum,\n\u001B[1;32m    249\u001B[0m     a_total_sum,\n\u001B[1;32m    250\u001B[0m     b_axis_sum,\n\u001B[1;32m    251\u001B[0m     b_total_sum,\n\u001B[1;32m    252\u001B[0m     a_mean_prod,\n\u001B[1;32m    253\u001B[0m     b_mean_prod,\n\u001B[0;32m--> 254\u001B[0m ) \u001B[38;5;241m=\u001B[39m \u001B[38;5;28mself\u001B[39m\u001B[38;5;241m.\u001B[39mterms(\n\u001B[1;32m    255\u001B[0m     x,\n\u001B[1;32m    256\u001B[0m     y,\n\u001B[1;32m    257\u001B[0m     exponent\u001B[38;5;241m=\u001B[39mexponent,\n\u001B[1;32m    258\u001B[0m     compile_mode\u001B[38;5;241m=\u001B[39mcompile_mode,\n\u001B[1;32m    259\u001B[0m     return_var_terms\u001B[38;5;241m=\u001B[39m\u001B[38;5;28;01mTrue\u001B[39;00m,\n\u001B[1;32m    260\u001B[0m )\n\u001B[1;32m    262\u001B[0m covariance_xy_sqr \u001B[38;5;241m=\u001B[39m _dcov_from_terms(\n\u001B[1;32m    263\u001B[0m     mean_prod\u001B[38;5;241m=\u001B[39mmean_prod,\n\u001B[1;32m    264\u001B[0m     a_axis_sum\u001B[38;5;241m=\u001B[39ma_axis_sum,\n\u001B[0;32m   (...)\u001B[0m\n\u001B[1;32m    269\u001B[0m     bias_corrected\u001B[38;5;241m=\u001B[39mbias_corrected,\n\u001B[1;32m    270\u001B[0m )\n\u001B[1;32m    271\u001B[0m variance_x_sqr \u001B[38;5;241m=\u001B[39m _dcov_from_terms(\n\u001B[1;32m    272\u001B[0m     mean_prod\u001B[38;5;241m=\u001B[39ma_mean_prod,\n\u001B[1;32m    273\u001B[0m     a_axis_sum\u001B[38;5;241m=\u001B[39ma_axis_sum,\n\u001B[0;32m   (...)\u001B[0m\n\u001B[1;32m    278\u001B[0m     bias_corrected\u001B[38;5;241m=\u001B[39mbias_corrected,\n\u001B[1;32m    279\u001B[0m )\n",
      "File \u001B[0;32m/opt/anaconda3/envs/kaggle-jane-street/lib/python3.12/site-packages/dcor/_dcor.py:193\u001B[0m, in \u001B[0;36m_dcov_terms_auto\u001B[0;34m(x, y, exponent, compile_mode, return_var_terms)\u001B[0m\n\u001B[1;32m    190\u001B[0m \u001B[38;5;28;01mif\u001B[39;00m xp \u001B[38;5;241m==\u001B[39m np \u001B[38;5;129;01mand\u001B[39;00m _can_use_fast_algorithm(x, y, exponent):\n\u001B[1;32m    191\u001B[0m     dcov_terms \u001B[38;5;241m=\u001B[39m _distance_covariance_sqr_terms_avl\n\u001B[0;32m--> 193\u001B[0m \u001B[38;5;28;01mreturn\u001B[39;00m dcov_terms(\n\u001B[1;32m    194\u001B[0m     x,\n\u001B[1;32m    195\u001B[0m     y,\n\u001B[1;32m    196\u001B[0m     exponent\u001B[38;5;241m=\u001B[39mexponent,\n\u001B[1;32m    197\u001B[0m     compile_mode\u001B[38;5;241m=\u001B[39mcompile_mode,\n\u001B[1;32m    198\u001B[0m     return_var_terms\u001B[38;5;241m=\u001B[39mreturn_var_terms,\n\u001B[1;32m    199\u001B[0m )\n",
      "File \u001B[0;32m/opt/anaconda3/envs/kaggle-jane-street/lib/python3.12/site-packages/dcor/_fast_dcov_avl.py:547\u001B[0m, in \u001B[0;36m_distance_covariance_sqr_terms_avl\u001B[0;34m(x, y, exponent, compile_mode, return_var_terms)\u001B[0m\n\u001B[1;32m    543\u001B[0m \u001B[38;5;28;01mfor\u001B[39;00m impl \u001B[38;5;129;01min\u001B[39;00m impls_dict[compile_mode]:\n\u001B[1;32m    545\u001B[0m     \u001B[38;5;28;01mtry\u001B[39;00m:\n\u001B[0;32m--> 547\u001B[0m         \u001B[38;5;28;01mreturn\u001B[39;00m impl(x, y, return_var_terms)\n\u001B[1;32m    549\u001B[0m     \u001B[38;5;28;01mexcept\u001B[39;00m \u001B[38;5;167;01mTypeError\u001B[39;00m \u001B[38;5;28;01mas\u001B[39;00m e:\n\u001B[1;32m    551\u001B[0m         \u001B[38;5;28;01mif\u001B[39;00m compile_mode \u001B[38;5;129;01mis\u001B[39;00m \u001B[38;5;129;01mnot\u001B[39;00m CompileMode\u001B[38;5;241m.\u001B[39mAUTO:\n",
      "File \u001B[0;32m/opt/anaconda3/envs/kaggle-jane-street/lib/python3.12/site-packages/dcor/_fast_dcov_avl.py:383\u001B[0m, in \u001B[0;36m_generate_distance_covariance_sqr_terms_avl_impl.<locals>._distance_covariance_sqr_terms_avl_impl\u001B[0;34m(x, y, return_var_terms)\u001B[0m\n\u001B[1;32m    379\u001B[0m new_y \u001B[38;5;241m=\u001B[39m iy_reord \u001B[38;5;241m+\u001B[39m \u001B[38;5;241m1.0\u001B[39m\n\u001B[1;32m    381\u001B[0m \u001B[38;5;66;03m# Step 7\u001B[39;00m\n\u001B[1;32m    382\u001B[0m gamma_1, gamma_x, gamma_y, gamma_xy \u001B[38;5;241m=\u001B[39m [\n\u001B[0;32m--> 383\u001B[0m     partial_sum_2d(\n\u001B[1;32m    384\u001B[0m         x_reord,\n\u001B[1;32m    385\u001B[0m         new_y,\n\u001B[1;32m    386\u001B[0m         c[i],\n\u001B[1;32m    387\u001B[0m         ix,\n\u001B[1;32m    388\u001B[0m         iy_reord,\n\u001B[1;32m    389\u001B[0m         sx_c[i],\n\u001B[1;32m    390\u001B[0m         sy_c[i],\n\u001B[1;32m    391\u001B[0m         c_sum[i],\n\u001B[1;32m    392\u001B[0m         l_max,\n\u001B[1;32m    393\u001B[0m         s,\n\u001B[1;32m    394\u001B[0m         pos_sums,\n\u001B[1;32m    395\u001B[0m         gamma[i],\n\u001B[1;32m    396\u001B[0m     ) \u001B[38;5;28;01mfor\u001B[39;00m i \u001B[38;5;129;01min\u001B[39;00m \u001B[38;5;28mrange\u001B[39m(\u001B[38;5;241m4\u001B[39m)\n\u001B[1;32m    397\u001B[0m ]\n\u001B[1;32m    399\u001B[0m \u001B[38;5;66;03m# Step 8\u001B[39;00m\n\u001B[1;32m    400\u001B[0m aijbij \u001B[38;5;241m=\u001B[39m np\u001B[38;5;241m.\u001B[39msum(x \u001B[38;5;241m*\u001B[39m y \u001B[38;5;241m*\u001B[39m gamma_1 \u001B[38;5;241m+\u001B[39m gamma_xy \u001B[38;5;241m-\u001B[39m x \u001B[38;5;241m*\u001B[39m gamma_y \u001B[38;5;241m-\u001B[39m y \u001B[38;5;241m*\u001B[39m gamma_x)\n",
      "File \u001B[0;32m/opt/anaconda3/envs/kaggle-jane-street/lib/python3.12/site-packages/dcor/_fast_dcov_avl.py:171\u001B[0m, in \u001B[0;36m_generate_partial_sum_2d.<locals>._partial_sum_2d\u001B[0;34m(x, y, c, ix, iy, sx_c, sy_c, c_sum, l_max, s, pos_sums, gamma)\u001B[0m\n\u001B[1;32m    154\u001B[0m \u001B[38;5;28;01mdef\u001B[39;00m \u001B[38;5;21m_partial_sum_2d\u001B[39m(\n\u001B[1;32m    155\u001B[0m     x: np\u001B[38;5;241m.\u001B[39mtyping\u001B[38;5;241m.\u001B[39mNDArray[np\u001B[38;5;241m.\u001B[39mfloat64],\n\u001B[1;32m    156\u001B[0m     y: np\u001B[38;5;241m.\u001B[39mtyping\u001B[38;5;241m.\u001B[39mNDArray[np\u001B[38;5;241m.\u001B[39mfloat64],\n\u001B[0;32m   (...)\u001B[0m\n\u001B[1;32m    166\u001B[0m     gamma: np\u001B[38;5;241m.\u001B[39mtyping\u001B[38;5;241m.\u001B[39mNDArray[np\u001B[38;5;241m.\u001B[39mfloat64],\n\u001B[1;32m    167\u001B[0m ) \u001B[38;5;241m-\u001B[39m\u001B[38;5;241m>\u001B[39m np\u001B[38;5;241m.\u001B[39mtyping\u001B[38;5;241m.\u001B[39mNDArray[np\u001B[38;5;241m.\u001B[39mfloat64]:  \u001B[38;5;66;03m# pylint:disable=too-many-locals\u001B[39;00m\n\u001B[1;32m    169\u001B[0m     dyad_update \u001B[38;5;241m=\u001B[39m _dyad_update_compiled \u001B[38;5;28;01mif\u001B[39;00m compiled \u001B[38;5;28;01melse\u001B[39;00m _dyad_update\n\u001B[0;32m--> 171\u001B[0m     gamma \u001B[38;5;241m=\u001B[39m dyad_update(y, c, gamma, l_max, s, pos_sums)\n\u001B[1;32m    173\u001B[0m     \u001B[38;5;66;03m# Step 7\u001B[39;00m\n\u001B[1;32m    174\u001B[0m     gamma \u001B[38;5;241m=\u001B[39m c_sum \u001B[38;5;241m-\u001B[39m c \u001B[38;5;241m-\u001B[39m \u001B[38;5;241m2\u001B[39m \u001B[38;5;241m*\u001B[39m sy_c[iy] \u001B[38;5;241m-\u001B[39m \u001B[38;5;241m2\u001B[39m \u001B[38;5;241m*\u001B[39m sx_c \u001B[38;5;241m+\u001B[39m \u001B[38;5;241m4\u001B[39m \u001B[38;5;241m*\u001B[39m gamma\n",
      "File \u001B[0;32m/opt/anaconda3/envs/kaggle-jane-street/lib/python3.12/site-packages/dcor/_fast_dcov_avl.py:82\u001B[0m, in \u001B[0;36m_dyad_update\u001B[0;34m(y, c, gamma, l_max, s, pos_sums)\u001B[0m\n\u001B[1;32m     76\u001B[0m np_sum \u001B[38;5;241m=\u001B[39m np\u001B[38;5;241m.\u001B[39msum\n\u001B[1;32m     78\u001B[0m \u001B[38;5;28;01mfor\u001B[39;00m i, (pos_a, pos_b, valid, c_i) \u001B[38;5;129;01min\u001B[39;00m \u001B[38;5;28menumerate\u001B[39m(\n\u001B[1;32m     79\u001B[0m     \u001B[38;5;28mzip\u001B[39m(positions_3a, positions_3b, valid_positions, c),\n\u001B[1;32m     80\u001B[0m ):\n\u001B[1;32m     81\u001B[0m     \u001B[38;5;66;03m# Steps 3.b and 3.c\u001B[39;00m\n\u001B[0;32m---> 82\u001B[0m     gamma[i] \u001B[38;5;241m=\u001B[39m np_sum(s[pos_b[valid]])\n\u001B[1;32m     84\u001B[0m     \u001B[38;5;66;03m# Step 3.a: update s(l, k)\u001B[39;00m\n\u001B[1;32m     85\u001B[0m     s[pos_a] \u001B[38;5;241m+\u001B[39m\u001B[38;5;241m=\u001B[39m c_i\n",
      "File \u001B[0;32m/opt/anaconda3/envs/kaggle-jane-street/lib/python3.12/site-packages/numpy/core/fromnumeric.py:2313\u001B[0m, in \u001B[0;36msum\u001B[0;34m(a, axis, dtype, out, keepdims, initial, where)\u001B[0m\n\u001B[1;32m   2310\u001B[0m         \u001B[38;5;28;01mreturn\u001B[39;00m out\n\u001B[1;32m   2311\u001B[0m     \u001B[38;5;28;01mreturn\u001B[39;00m res\n\u001B[0;32m-> 2313\u001B[0m \u001B[38;5;28;01mreturn\u001B[39;00m _wrapreduction(a, np\u001B[38;5;241m.\u001B[39madd, \u001B[38;5;124m'\u001B[39m\u001B[38;5;124msum\u001B[39m\u001B[38;5;124m'\u001B[39m, axis, dtype, out, keepdims\u001B[38;5;241m=\u001B[39mkeepdims,\n\u001B[1;32m   2314\u001B[0m                       initial\u001B[38;5;241m=\u001B[39minitial, where\u001B[38;5;241m=\u001B[39mwhere)\n",
      "File \u001B[0;32m/opt/anaconda3/envs/kaggle-jane-street/lib/python3.12/site-packages/numpy/core/fromnumeric.py:88\u001B[0m, in \u001B[0;36m_wrapreduction\u001B[0;34m(obj, ufunc, method, axis, dtype, out, **kwargs)\u001B[0m\n\u001B[1;32m     85\u001B[0m         \u001B[38;5;28;01melse\u001B[39;00m:\n\u001B[1;32m     86\u001B[0m             \u001B[38;5;28;01mreturn\u001B[39;00m reduction(axis\u001B[38;5;241m=\u001B[39maxis, out\u001B[38;5;241m=\u001B[39mout, \u001B[38;5;241m*\u001B[39m\u001B[38;5;241m*\u001B[39mpasskwargs)\n\u001B[0;32m---> 88\u001B[0m \u001B[38;5;28;01mreturn\u001B[39;00m ufunc\u001B[38;5;241m.\u001B[39mreduce(obj, axis, dtype, out, \u001B[38;5;241m*\u001B[39m\u001B[38;5;241m*\u001B[39mpasskwargs)\n",
      "\u001B[0;31mKeyboardInterrupt\u001B[0m: "
     ]
    }
   ],
   "execution_count": 22
  },
  {
   "metadata": {
    "ExecuteTime": {
     "end_time": "2024-11-25T12:23:45.903606Z",
     "start_time": "2024-11-25T12:23:43.149547Z"
    }
   },
   "cell_type": "code",
   "source": [
    "for i in range(10):\n",
    "    df_train = pl.read_parquet(f\"{DATA_PATH}/raw/train.parquet/partition_id={i}/part-0.parquet\")\n",
    "    print(f'partition_id={i}, min_date={df_train['date_id'].min()}, max_date={df_train['date_id'].max()}')"
   ],
   "id": "8afb67b6328e73b1",
   "outputs": [
    {
     "name": "stdout",
     "output_type": "stream",
     "text": [
      "partition_id=0, min_date=0, max_date=169\n",
      "partition_id=1, min_date=170, max_date=339\n",
      "partition_id=2, min_date=340, max_date=509\n",
      "partition_id=3, min_date=510, max_date=679\n",
      "partition_id=4, min_date=680, max_date=849\n",
      "partition_id=5, min_date=850, max_date=1019\n",
      "partition_id=6, min_date=1020, max_date=1189\n",
      "partition_id=7, min_date=1190, max_date=1359\n",
      "partition_id=8, min_date=1360, max_date=1529\n",
      "partition_id=9, min_date=1530, max_date=1698\n"
     ]
    }
   ],
   "execution_count": 9
  },
  {
   "metadata": {},
   "cell_type": "markdown",
   "source": "Before doing anything, I'll concatenate these datasets to have a better view of the (chronological) data.",
   "id": "6a0c22425906797f"
  }
 ],
 "metadata": {
  "kernelspec": {
   "display_name": "Python 3",
   "language": "python",
   "name": "python3"
  },
  "language_info": {
   "codemirror_mode": {
    "name": "ipython",
    "version": 2
   },
   "file_extension": ".py",
   "mimetype": "text/x-python",
   "name": "python",
   "nbconvert_exporter": "python",
   "pygments_lexer": "ipython2",
   "version": "2.7.6"
  }
 },
 "nbformat": 4,
 "nbformat_minor": 5
}
