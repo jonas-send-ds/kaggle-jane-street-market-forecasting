{
 "cells": [
  {
   "cell_type": "code",
   "id": "initial_id",
   "metadata": {
    "collapsed": true
   },
   "source": [
    "import polars as pl\n",
    "\n",
    "from src.util.constants import DATA_PATH"
   ],
   "outputs": [],
   "execution_count": null
  },
  {
   "metadata": {},
   "cell_type": "code",
   "source": "df_all = pl.read_parquet(DATA_PATH / 'df_all.parquet')",
   "id": "51e940c944dc45f6",
   "outputs": [],
   "execution_count": null
  },
  {
   "metadata": {},
   "cell_type": "code",
   "source": "df_all.head()",
   "id": "71fb5edc5aa54bb8",
   "outputs": [],
   "execution_count": null
  },
  {
   "metadata": {},
   "cell_type": "code",
   "source": [
    "df_time_count = df_all.group_by('date_id', maintain_order=True).agg(pl.col('time_id').unique().count())\n",
    "df_time_count.plot.line(x='date_id', y='time_id').show()"
   ],
   "id": "3d39d542dc1c8417",
   "outputs": [],
   "execution_count": null
  },
  {
   "metadata": {},
   "cell_type": "markdown",
   "source": "We reach the maximum number of time_ids before halftime.",
   "id": "e957d31bb772eb0e"
  },
  {
   "metadata": {},
   "cell_type": "code",
   "source": "df_all['symbol_id'].unique().count()",
   "id": "d1078f278345f74a",
   "outputs": [],
   "execution_count": null
  },
  {
   "metadata": {},
   "cell_type": "markdown",
   "source": "There are 39 unique symbols in the dataset.",
   "id": "5345b9d623c834f6"
  },
  {
   "metadata": {},
   "cell_type": "code",
   "source": [
    "df_available_symbols = df_all.group_by('date_id', maintain_order=True).agg(pl.col('symbol_id').unique()).explode('symbol_id')\n",
    "df_symbol_availability = df_available_symbols.group_by('symbol_id').agg(pl.col('date_id').min().alias('first_date'), pl.col('date_id').max().alias('last_date')).sort('symbol_id')\n",
    "\n",
    "df_symbol_availability.describe()"
   ],
   "id": "8b6b5abce84dbdd1",
   "outputs": [],
   "execution_count": null
  },
  {
   "metadata": {},
   "cell_type": "markdown",
   "source": [
    "Once a symbol is available, it is available for all time_ids and for every subsequent date_id (not shown).\n",
    "\n",
    "The last symbols come available at date 1063, which marks the 62% date quantile.\n",
    "\n"
   ],
   "id": "b4e0902c01b3379e"
  },
  {
   "metadata": {},
   "cell_type": "code",
   "source": "df_null_count = df_all.group_by(['date_id'], maintain_order=True).agg(pl.all().exclude(['date_id', 'time_id']).null_count() / pl.col('date_id').count())",
   "id": "6d2d92b04aae8813",
   "outputs": [],
   "execution_count": null
  },
  {
   "metadata": {},
   "cell_type": "code",
   "source": [
    "# plot a line for each feature in df_null_count for which the maximum count is larger than zero:\n",
    "for col in df_null_count.columns[1:]:\n",
    "    if df_null_count[col].max() > 0:\n",
    "        df_null_count.plot.line(x='date_id', y=col).show()"
   ],
   "id": "d7d194b11d9d4458",
   "outputs": [],
   "execution_count": null
  },
  {
   "metadata": {},
   "cell_type": "markdown",
   "source": [
    "All features become usually available before halftime.\n",
    "\n",
    "Most features can be null."
   ],
   "id": "a3db1ad3f161bcbb"
  },
  {
   "metadata": {},
   "cell_type": "code",
   "source": "df_all[round(len(df_all)*.7), :]",
   "id": "60bb11a066b57568",
   "outputs": [],
   "execution_count": null
  },
  {
   "metadata": {},
   "cell_type": "markdown",
   "source": "If we use 10% of the data each for feature selection, validation, and testing, we can train on data up to date 1314, mwaning we get at least 250 days for each symbol and for each feature.",
   "id": "892d27911882612c"
  }
 ],
 "metadata": {
  "kernelspec": {
   "display_name": "Python 3",
   "language": "python",
   "name": "python3"
  },
  "language_info": {
   "codemirror_mode": {
    "name": "ipython",
    "version": 2
   },
   "file_extension": ".py",
   "mimetype": "text/x-python",
   "name": "python",
   "nbconvert_exporter": "python",
   "pygments_lexer": "ipython2",
   "version": "2.7.6"
  }
 },
 "nbformat": 4,
 "nbformat_minor": 5
}
