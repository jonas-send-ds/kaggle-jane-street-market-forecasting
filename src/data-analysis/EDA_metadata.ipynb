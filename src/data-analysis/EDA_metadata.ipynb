{
 "cells": [
  {
   "metadata": {
    "ExecuteTime": {
     "end_time": "2024-11-25T12:04:17.876052Z",
     "start_time": "2024-11-25T12:04:17.872260Z"
    }
   },
   "cell_type": "code",
   "source": [
    "import polars as pl\n",
    "\n",
    "from src.util.constants import DATA_PATH"
   ],
   "id": "b0fb81f716f85cce",
   "outputs": [],
   "execution_count": 4
  },
  {
   "cell_type": "code",
   "id": "initial_id",
   "metadata": {
    "collapsed": true,
    "ExecuteTime": {
     "end_time": "2024-11-25T12:04:19.025802Z",
     "start_time": "2024-11-25T12:04:19.015971Z"
    }
   },
   "source": [
    "df_features = pl.read_csv(f\"{DATA_PATH}/raw/features.csv\")\n",
    "df_features"
   ],
   "outputs": [
    {
     "data": {
      "text/plain": [
       "shape: (79, 18)\n",
       "┌────────────┬───────┬───────┬───────┬───┬────────┬────────┬────────┬────────┐\n",
       "│ feature    ┆ tag_0 ┆ tag_1 ┆ tag_2 ┆ … ┆ tag_13 ┆ tag_14 ┆ tag_15 ┆ tag_16 │\n",
       "│ ---        ┆ ---   ┆ ---   ┆ ---   ┆   ┆ ---    ┆ ---    ┆ ---    ┆ ---    │\n",
       "│ str        ┆ bool  ┆ bool  ┆ bool  ┆   ┆ bool   ┆ bool   ┆ bool   ┆ bool   │\n",
       "╞════════════╪═══════╪═══════╪═══════╪═══╪════════╪════════╪════════╪════════╡\n",
       "│ feature_00 ┆ false ┆ false ┆ true  ┆ … ┆ false  ┆ true   ┆ false  ┆ true   │\n",
       "│ feature_01 ┆ false ┆ false ┆ true  ┆ … ┆ true   ┆ true   ┆ false  ┆ true   │\n",
       "│ feature_02 ┆ false ┆ false ┆ true  ┆ … ┆ false  ┆ false  ┆ false  ┆ true   │\n",
       "│ feature_03 ┆ false ┆ false ┆ true  ┆ … ┆ true   ┆ false  ┆ false  ┆ true   │\n",
       "│ feature_04 ┆ false ┆ false ┆ true  ┆ … ┆ true   ┆ false  ┆ false  ┆ true   │\n",
       "│ …          ┆ …     ┆ …     ┆ …     ┆ … ┆ …      ┆ …      ┆ …      ┆ …      │\n",
       "│ feature_74 ┆ false ┆ false ┆ false ┆ … ┆ false  ┆ true   ┆ false  ┆ false  │\n",
       "│ feature_75 ┆ false ┆ false ┆ false ┆ … ┆ false  ┆ false  ┆ false  ┆ false  │\n",
       "│ feature_76 ┆ false ┆ false ┆ false ┆ … ┆ false  ┆ false  ┆ false  ┆ false  │\n",
       "│ feature_77 ┆ false ┆ false ┆ false ┆ … ┆ true   ┆ false  ┆ false  ┆ false  │\n",
       "│ feature_78 ┆ false ┆ false ┆ false ┆ … ┆ true   ┆ false  ┆ false  ┆ false  │\n",
       "└────────────┴───────┴───────┴───────┴───┴────────┴────────┴────────┴────────┘"
      ],
      "text/html": [
       "<div><style>\n",
       ".dataframe > thead > tr,\n",
       ".dataframe > tbody > tr {\n",
       "  text-align: right;\n",
       "  white-space: pre-wrap;\n",
       "}\n",
       "</style>\n",
       "<small>shape: (79, 18)</small><table border=\"1\" class=\"dataframe\"><thead><tr><th>feature</th><th>tag_0</th><th>tag_1</th><th>tag_2</th><th>tag_3</th><th>tag_4</th><th>tag_5</th><th>tag_6</th><th>tag_7</th><th>tag_8</th><th>tag_9</th><th>tag_10</th><th>tag_11</th><th>tag_12</th><th>tag_13</th><th>tag_14</th><th>tag_15</th><th>tag_16</th></tr><tr><td>str</td><td>bool</td><td>bool</td><td>bool</td><td>bool</td><td>bool</td><td>bool</td><td>bool</td><td>bool</td><td>bool</td><td>bool</td><td>bool</td><td>bool</td><td>bool</td><td>bool</td><td>bool</td><td>bool</td><td>bool</td></tr></thead><tbody><tr><td>&quot;feature_00&quot;</td><td>false</td><td>false</td><td>true</td><td>false</td><td>false</td><td>false</td><td>false</td><td>false</td><td>false</td><td>false</td><td>false</td><td>false</td><td>false</td><td>false</td><td>true</td><td>false</td><td>true</td></tr><tr><td>&quot;feature_01&quot;</td><td>false</td><td>false</td><td>true</td><td>false</td><td>false</td><td>false</td><td>false</td><td>false</td><td>false</td><td>false</td><td>false</td><td>false</td><td>false</td><td>true</td><td>true</td><td>false</td><td>true</td></tr><tr><td>&quot;feature_02&quot;</td><td>false</td><td>false</td><td>true</td><td>false</td><td>false</td><td>false</td><td>false</td><td>false</td><td>false</td><td>false</td><td>false</td><td>false</td><td>true</td><td>false</td><td>false</td><td>false</td><td>true</td></tr><tr><td>&quot;feature_03&quot;</td><td>false</td><td>false</td><td>true</td><td>false</td><td>false</td><td>false</td><td>false</td><td>false</td><td>false</td><td>false</td><td>false</td><td>false</td><td>false</td><td>true</td><td>false</td><td>false</td><td>true</td></tr><tr><td>&quot;feature_04&quot;</td><td>false</td><td>false</td><td>true</td><td>false</td><td>false</td><td>false</td><td>false</td><td>false</td><td>false</td><td>false</td><td>false</td><td>false</td><td>true</td><td>true</td><td>false</td><td>false</td><td>true</td></tr><tr><td>&hellip;</td><td>&hellip;</td><td>&hellip;</td><td>&hellip;</td><td>&hellip;</td><td>&hellip;</td><td>&hellip;</td><td>&hellip;</td><td>&hellip;</td><td>&hellip;</td><td>&hellip;</td><td>&hellip;</td><td>&hellip;</td><td>&hellip;</td><td>&hellip;</td><td>&hellip;</td><td>&hellip;</td><td>&hellip;</td></tr><tr><td>&quot;feature_74&quot;</td><td>false</td><td>false</td><td>false</td><td>false</td><td>false</td><td>false</td><td>false</td><td>false</td><td>true</td><td>false</td><td>false</td><td>false</td><td>false</td><td>false</td><td>true</td><td>false</td><td>false</td></tr><tr><td>&quot;feature_75&quot;</td><td>false</td><td>false</td><td>false</td><td>false</td><td>false</td><td>false</td><td>false</td><td>false</td><td>true</td><td>false</td><td>false</td><td>false</td><td>true</td><td>false</td><td>false</td><td>false</td><td>false</td></tr><tr><td>&quot;feature_76&quot;</td><td>false</td><td>false</td><td>false</td><td>false</td><td>false</td><td>false</td><td>false</td><td>false</td><td>true</td><td>false</td><td>false</td><td>false</td><td>true</td><td>false</td><td>false</td><td>false</td><td>false</td></tr><tr><td>&quot;feature_77&quot;</td><td>false</td><td>false</td><td>false</td><td>false</td><td>false</td><td>false</td><td>false</td><td>false</td><td>true</td><td>false</td><td>false</td><td>false</td><td>false</td><td>true</td><td>false</td><td>false</td><td>false</td></tr><tr><td>&quot;feature_78&quot;</td><td>false</td><td>false</td><td>false</td><td>false</td><td>false</td><td>false</td><td>false</td><td>false</td><td>true</td><td>false</td><td>false</td><td>false</td><td>false</td><td>true</td><td>false</td><td>false</td><td>false</td></tr></tbody></table></div>"
      ]
     },
     "execution_count": 5,
     "metadata": {},
     "output_type": "execute_result"
    }
   ],
   "execution_count": 5
  },
  {
   "metadata": {
    "ExecuteTime": {
     "end_time": "2024-11-25T12:06:11.131852Z",
     "start_time": "2024-11-25T12:06:11.128591Z"
    }
   },
   "cell_type": "code",
   "source": [
    "df_responders = pl.read_csv(f\"{DATA_PATH}/raw/responders.csv\")\n",
    "df_responders"
   ],
   "id": "7dd5ad32a822c886",
   "outputs": [
    {
     "data": {
      "text/plain": [
       "shape: (9, 6)\n",
       "┌─────────────┬───────┬───────┬───────┬───────┬───────┐\n",
       "│ responder   ┆ tag_0 ┆ tag_1 ┆ tag_2 ┆ tag_3 ┆ tag_4 │\n",
       "│ ---         ┆ ---   ┆ ---   ┆ ---   ┆ ---   ┆ ---   │\n",
       "│ str         ┆ bool  ┆ bool  ┆ bool  ┆ bool  ┆ bool  │\n",
       "╞═════════════╪═══════╪═══════╪═══════╪═══════╪═══════╡\n",
       "│ responder_0 ┆ true  ┆ false ┆ true  ┆ false ┆ false │\n",
       "│ responder_1 ┆ true  ┆ false ┆ false ┆ true  ┆ false │\n",
       "│ responder_2 ┆ true  ┆ true  ┆ false ┆ false ┆ false │\n",
       "│ responder_3 ┆ false ┆ false ┆ true  ┆ false ┆ true  │\n",
       "│ responder_4 ┆ false ┆ false ┆ false ┆ true  ┆ true  │\n",
       "│ responder_5 ┆ false ┆ true  ┆ false ┆ false ┆ true  │\n",
       "│ responder_6 ┆ false ┆ false ┆ true  ┆ false ┆ false │\n",
       "│ responder_7 ┆ false ┆ false ┆ false ┆ true  ┆ false │\n",
       "│ responder_8 ┆ false ┆ true  ┆ false ┆ false ┆ false │\n",
       "└─────────────┴───────┴───────┴───────┴───────┴───────┘"
      ],
      "text/html": [
       "<div><style>\n",
       ".dataframe > thead > tr,\n",
       ".dataframe > tbody > tr {\n",
       "  text-align: right;\n",
       "  white-space: pre-wrap;\n",
       "}\n",
       "</style>\n",
       "<small>shape: (9, 6)</small><table border=\"1\" class=\"dataframe\"><thead><tr><th>responder</th><th>tag_0</th><th>tag_1</th><th>tag_2</th><th>tag_3</th><th>tag_4</th></tr><tr><td>str</td><td>bool</td><td>bool</td><td>bool</td><td>bool</td><td>bool</td></tr></thead><tbody><tr><td>&quot;responder_0&quot;</td><td>true</td><td>false</td><td>true</td><td>false</td><td>false</td></tr><tr><td>&quot;responder_1&quot;</td><td>true</td><td>false</td><td>false</td><td>true</td><td>false</td></tr><tr><td>&quot;responder_2&quot;</td><td>true</td><td>true</td><td>false</td><td>false</td><td>false</td></tr><tr><td>&quot;responder_3&quot;</td><td>false</td><td>false</td><td>true</td><td>false</td><td>true</td></tr><tr><td>&quot;responder_4&quot;</td><td>false</td><td>false</td><td>false</td><td>true</td><td>true</td></tr><tr><td>&quot;responder_5&quot;</td><td>false</td><td>true</td><td>false</td><td>false</td><td>true</td></tr><tr><td>&quot;responder_6&quot;</td><td>false</td><td>false</td><td>true</td><td>false</td><td>false</td></tr><tr><td>&quot;responder_7&quot;</td><td>false</td><td>false</td><td>false</td><td>true</td><td>false</td></tr><tr><td>&quot;responder_8&quot;</td><td>false</td><td>true</td><td>false</td><td>false</td><td>false</td></tr></tbody></table></div>"
      ]
     },
     "execution_count": 6,
     "metadata": {},
     "output_type": "execute_result"
    }
   ],
   "execution_count": 6
  },
  {
   "metadata": {
    "ExecuteTime": {
     "end_time": "2024-11-25T12:07:00.328597Z",
     "start_time": "2024-11-25T12:07:00.325209Z"
    }
   },
   "cell_type": "code",
   "source": [
    "df_sample_submission = pl.read_csv(f\"{DATA_PATH}/raw/sample_submission.csv\")\n",
    "df_sample_submission"
   ],
   "id": "527be1595e0b13b5",
   "outputs": [
    {
     "data": {
      "text/plain": [
       "shape: (39, 2)\n",
       "┌────────┬─────────────┐\n",
       "│ row_id ┆ responder_6 │\n",
       "│ ---    ┆ ---         │\n",
       "│ i64    ┆ f64         │\n",
       "╞════════╪═════════════╡\n",
       "│ 0      ┆ 0.0         │\n",
       "│ 1      ┆ 0.0         │\n",
       "│ 2      ┆ 0.0         │\n",
       "│ 3      ┆ 0.0         │\n",
       "│ 4      ┆ 0.0         │\n",
       "│ …      ┆ …           │\n",
       "│ 34     ┆ 0.0         │\n",
       "│ 35     ┆ 0.0         │\n",
       "│ 36     ┆ 0.0         │\n",
       "│ 37     ┆ 0.0         │\n",
       "│ 38     ┆ 0.0         │\n",
       "└────────┴─────────────┘"
      ],
      "text/html": [
       "<div><style>\n",
       ".dataframe > thead > tr,\n",
       ".dataframe > tbody > tr {\n",
       "  text-align: right;\n",
       "  white-space: pre-wrap;\n",
       "}\n",
       "</style>\n",
       "<small>shape: (39, 2)</small><table border=\"1\" class=\"dataframe\"><thead><tr><th>row_id</th><th>responder_6</th></tr><tr><td>i64</td><td>f64</td></tr></thead><tbody><tr><td>0</td><td>0.0</td></tr><tr><td>1</td><td>0.0</td></tr><tr><td>2</td><td>0.0</td></tr><tr><td>3</td><td>0.0</td></tr><tr><td>4</td><td>0.0</td></tr><tr><td>&hellip;</td><td>&hellip;</td></tr><tr><td>34</td><td>0.0</td></tr><tr><td>35</td><td>0.0</td></tr><tr><td>36</td><td>0.0</td></tr><tr><td>37</td><td>0.0</td></tr><tr><td>38</td><td>0.0</td></tr></tbody></table></div>"
      ]
     },
     "execution_count": 7,
     "metadata": {},
     "output_type": "execute_result"
    }
   ],
   "execution_count": 7
  },
  {
   "metadata": {},
   "cell_type": "markdown",
   "source": "On its own, there's not much to see here.",
   "id": "aaabd833701fc827"
  }
 ],
 "metadata": {
  "kernelspec": {
   "display_name": "Python 3",
   "language": "python",
   "name": "python3"
  },
  "language_info": {
   "codemirror_mode": {
    "name": "ipython",
    "version": 2
   },
   "file_extension": ".py",
   "mimetype": "text/x-python",
   "name": "python",
   "nbconvert_exporter": "python",
   "pygments_lexer": "ipython2",
   "version": "2.7.6"
  }
 },
 "nbformat": 4,
 "nbformat_minor": 5
}
