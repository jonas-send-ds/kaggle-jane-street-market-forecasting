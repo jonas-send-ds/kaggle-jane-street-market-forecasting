{
 "cells": [
  {
   "cell_type": "code",
   "id": "initial_id",
   "metadata": {
    "collapsed": true,
    "ExecuteTime": {
     "end_time": "2024-11-26T17:06:00.673537Z",
     "start_time": "2024-11-26T17:06:00.671440Z"
    }
   },
   "source": [
    "import polars as pl\n",
    "import numpy as np\n",
    "import dcor\n",
    "import seaborn as sns\n",
    "import matplotlib.pyplot as plt\n",
    "\n",
    "from scipy.stats import norm\n",
    "from src.util.constants import DATA_PATH"
   ],
   "outputs": [],
   "execution_count": 8
  },
  {
   "metadata": {},
   "cell_type": "markdown",
   "source": "### Load data",
   "id": "3a3c4e68b3b1a0de"
  },
  {
   "metadata": {
    "ExecuteTime": {
     "end_time": "2024-11-26T17:06:04.528884Z",
     "start_time": "2024-11-26T17:06:01.926228Z"
    }
   },
   "cell_type": "code",
   "source": "df_train = pl.read_parquet(DATA_PATH / 'df_train.parquet')",
   "id": "209ea3725e72e5d1",
   "outputs": [],
   "execution_count": 9
  },
  {
   "metadata": {
    "ExecuteTime": {
     "end_time": "2024-11-26T16:08:40.474895Z",
     "start_time": "2024-11-26T16:08:40.469764Z"
    }
   },
   "cell_type": "code",
   "source": "df_train.head()",
   "id": "3122c8afc5f7cec5",
   "outputs": [
    {
     "data": {
      "text/plain": [
       "shape: (5, 92)\n",
       "┌─────────┬─────────┬───────────┬──────────┬───┬────────────┬────────────┬────────────┬────────────┐\n",
       "│ date_id ┆ time_id ┆ symbol_id ┆ weight   ┆ … ┆ responder_ ┆ responder_ ┆ responder_ ┆ responder_ │\n",
       "│ ---     ┆ ---     ┆ ---       ┆ ---      ┆   ┆ 5          ┆ 6          ┆ 7          ┆ 8          │\n",
       "│ i16     ┆ i16     ┆ i8        ┆ f32      ┆   ┆ ---        ┆ ---        ┆ ---        ┆ ---        │\n",
       "│         ┆         ┆           ┆          ┆   ┆ f32        ┆ f32        ┆ f32        ┆ f32        │\n",
       "╞═════════╪═════════╪═══════════╪══════════╪═══╪════════════╪════════════╪════════════╪════════════╡\n",
       "│ 0       ┆ 0       ┆ 1         ┆ 3.889038 ┆ … ┆ 1.218368   ┆ 0.775981   ┆ 0.346999   ┆ 0.095504   │\n",
       "│ 0       ┆ 0       ┆ 7         ┆ 1.370613 ┆ … ┆ 5.0        ┆ 0.703665   ┆ 0.216683   ┆ 0.778639   │\n",
       "│ 0       ┆ 0       ┆ 9         ┆ 2.285698 ┆ … ┆ 0.099793   ┆ 2.109352   ┆ 0.670881   ┆ 0.772828   │\n",
       "│ 0       ┆ 0       ┆ 10        ┆ 0.690606 ┆ … ┆ 1.225376   ┆ 1.114137   ┆ 0.775199   ┆ -1.379516  │\n",
       "│ 0       ┆ 0       ┆ 14        ┆ 0.44057  ┆ … ┆ -5.0       ┆ -3.57282   ┆ -1.089123  ┆ -5.0       │\n",
       "└─────────┴─────────┴───────────┴──────────┴───┴────────────┴────────────┴────────────┴────────────┘"
      ],
      "text/html": [
       "<div><style>\n",
       ".dataframe > thead > tr,\n",
       ".dataframe > tbody > tr {\n",
       "  text-align: right;\n",
       "  white-space: pre-wrap;\n",
       "}\n",
       "</style>\n",
       "<small>shape: (5, 92)</small><table border=\"1\" class=\"dataframe\"><thead><tr><th>date_id</th><th>time_id</th><th>symbol_id</th><th>weight</th><th>feature_00</th><th>feature_01</th><th>feature_02</th><th>feature_03</th><th>feature_04</th><th>feature_05</th><th>feature_06</th><th>feature_07</th><th>feature_08</th><th>feature_09</th><th>feature_10</th><th>feature_11</th><th>feature_12</th><th>feature_13</th><th>feature_14</th><th>feature_15</th><th>feature_16</th><th>feature_17</th><th>feature_18</th><th>feature_19</th><th>feature_20</th><th>feature_21</th><th>feature_22</th><th>feature_23</th><th>feature_24</th><th>feature_25</th><th>feature_26</th><th>feature_27</th><th>feature_28</th><th>feature_29</th><th>feature_30</th><th>feature_31</th><th>feature_32</th><th>&hellip;</th><th>feature_51</th><th>feature_52</th><th>feature_53</th><th>feature_54</th><th>feature_55</th><th>feature_56</th><th>feature_57</th><th>feature_58</th><th>feature_59</th><th>feature_60</th><th>feature_61</th><th>feature_62</th><th>feature_63</th><th>feature_64</th><th>feature_65</th><th>feature_66</th><th>feature_67</th><th>feature_68</th><th>feature_69</th><th>feature_70</th><th>feature_71</th><th>feature_72</th><th>feature_73</th><th>feature_74</th><th>feature_75</th><th>feature_76</th><th>feature_77</th><th>feature_78</th><th>responder_0</th><th>responder_1</th><th>responder_2</th><th>responder_3</th><th>responder_4</th><th>responder_5</th><th>responder_6</th><th>responder_7</th><th>responder_8</th></tr><tr><td>i16</td><td>i16</td><td>i8</td><td>f32</td><td>f32</td><td>f32</td><td>f32</td><td>f32</td><td>f32</td><td>f32</td><td>f32</td><td>f32</td><td>f32</td><td>i8</td><td>i8</td><td>i16</td><td>f32</td><td>f32</td><td>f32</td><td>f32</td><td>f32</td><td>f32</td><td>f32</td><td>f32</td><td>f32</td><td>f32</td><td>f32</td><td>f32</td><td>f32</td><td>f32</td><td>f32</td><td>f32</td><td>f32</td><td>f32</td><td>f32</td><td>f32</td><td>f32</td><td>&hellip;</td><td>f32</td><td>f32</td><td>f32</td><td>f32</td><td>f32</td><td>f32</td><td>f32</td><td>f32</td><td>f32</td><td>f32</td><td>f32</td><td>f32</td><td>f32</td><td>f32</td><td>f32</td><td>f32</td><td>f32</td><td>f32</td><td>f32</td><td>f32</td><td>f32</td><td>f32</td><td>f32</td><td>f32</td><td>f32</td><td>f32</td><td>f32</td><td>f32</td><td>f32</td><td>f32</td><td>f32</td><td>f32</td><td>f32</td><td>f32</td><td>f32</td><td>f32</td><td>f32</td></tr></thead><tbody><tr><td>0</td><td>0</td><td>1</td><td>3.889038</td><td>null</td><td>null</td><td>null</td><td>null</td><td>null</td><td>0.851033</td><td>0.242971</td><td>0.2634</td><td>-0.891687</td><td>11</td><td>7</td><td>76</td><td>-0.883028</td><td>0.003067</td><td>-0.744703</td><td>null</td><td>-0.169586</td><td>null</td><td>-1.335938</td><td>-1.707803</td><td>0.91013</td><td>null</td><td>1.636431</td><td>1.522133</td><td>-1.551398</td><td>-0.229627</td><td>null</td><td>null</td><td>1.378301</td><td>-0.283712</td><td>0.123196</td><td>null</td><td>null</td><td>&hellip;</td><td>0.204797</td><td>null</td><td>null</td><td>-0.808103</td><td>null</td><td>-2.037683</td><td>0.727661</td><td>null</td><td>-0.989118</td><td>-0.345213</td><td>-1.36224</td><td>null</td><td>null</td><td>null</td><td>null</td><td>null</td><td>-1.251104</td><td>-0.110252</td><td>-0.491157</td><td>-1.02269</td><td>0.152241</td><td>-0.659864</td><td>null</td><td>null</td><td>-0.261412</td><td>-0.211486</td><td>-0.335556</td><td>-0.281498</td><td>0.738489</td><td>-0.069556</td><td>1.380875</td><td>2.005353</td><td>0.186018</td><td>1.218368</td><td>0.775981</td><td>0.346999</td><td>0.095504</td></tr><tr><td>0</td><td>0</td><td>7</td><td>1.370613</td><td>null</td><td>null</td><td>null</td><td>null</td><td>null</td><td>0.676961</td><td>0.151984</td><td>0.192465</td><td>-0.521729</td><td>11</td><td>7</td><td>76</td><td>-0.865307</td><td>-0.225629</td><td>-0.582163</td><td>null</td><td>0.317467</td><td>null</td><td>-1.250016</td><td>-1.682929</td><td>1.412757</td><td>null</td><td>0.520378</td><td>0.744132</td><td>-0.788658</td><td>0.641776</td><td>null</td><td>null</td><td>0.2272</td><td>0.580907</td><td>1.128879</td><td>null</td><td>null</td><td>&hellip;</td><td>1.172836</td><td>null</td><td>null</td><td>-1.625862</td><td>null</td><td>-1.410017</td><td>1.063013</td><td>null</td><td>0.888355</td><td>0.467994</td><td>-1.36224</td><td>null</td><td>null</td><td>null</td><td>null</td><td>null</td><td>-1.065759</td><td>0.013322</td><td>-0.592855</td><td>-1.052685</td><td>-0.393726</td><td>-0.741603</td><td>null</td><td>null</td><td>-0.281207</td><td>-0.182894</td><td>-0.245565</td><td>-0.302441</td><td>2.965889</td><td>1.190077</td><td>-0.523998</td><td>3.849921</td><td>2.626981</td><td>5.0</td><td>0.703665</td><td>0.216683</td><td>0.778639</td></tr><tr><td>0</td><td>0</td><td>9</td><td>2.285698</td><td>null</td><td>null</td><td>null</td><td>null</td><td>null</td><td>1.056285</td><td>0.187227</td><td>0.249901</td><td>-0.77305</td><td>11</td><td>7</td><td>76</td><td>-0.675719</td><td>-0.199404</td><td>-0.586798</td><td>null</td><td>-0.814909</td><td>null</td><td>-1.296782</td><td>-2.040234</td><td>0.639589</td><td>null</td><td>1.597359</td><td>0.657514</td><td>-1.350148</td><td>0.364215</td><td>null</td><td>null</td><td>-0.017751</td><td>-0.317361</td><td>-0.122379</td><td>null</td><td>null</td><td>&hellip;</td><td>0.535897</td><td>null</td><td>null</td><td>-0.72542</td><td>null</td><td>-2.29417</td><td>1.764551</td><td>null</td><td>-0.120789</td><td>-0.063458</td><td>-1.36224</td><td>null</td><td>null</td><td>null</td><td>null</td><td>null</td><td>-0.882604</td><td>-0.072482</td><td>-0.617934</td><td>-0.86323</td><td>-0.241892</td><td>-0.709919</td><td>null</td><td>null</td><td>0.377131</td><td>0.300724</td><td>-0.106842</td><td>-0.096792</td><td>-0.864488</td><td>-0.280303</td><td>-0.326697</td><td>0.375781</td><td>1.271291</td><td>0.099793</td><td>2.109352</td><td>0.670881</td><td>0.772828</td></tr><tr><td>0</td><td>0</td><td>10</td><td>0.690606</td><td>null</td><td>null</td><td>null</td><td>null</td><td>null</td><td>1.139366</td><td>0.273328</td><td>0.306549</td><td>-1.262223</td><td>42</td><td>5</td><td>150</td><td>-0.694008</td><td>3.004091</td><td>0.114809</td><td>null</td><td>-0.251882</td><td>null</td><td>-1.902009</td><td>-0.979447</td><td>0.241165</td><td>null</td><td>-0.392359</td><td>-0.224699</td><td>-2.129397</td><td>-0.855287</td><td>null</td><td>null</td><td>0.404142</td><td>-0.578156</td><td>0.105702</td><td>null</td><td>null</td><td>&hellip;</td><td>2.413415</td><td>null</td><td>null</td><td>1.313203</td><td>null</td><td>-0.810125</td><td>2.939022</td><td>null</td><td>3.988801</td><td>1.834661</td><td>-1.36224</td><td>null</td><td>null</td><td>null</td><td>null</td><td>null</td><td>-0.697595</td><td>1.074309</td><td>-0.206929</td><td>-0.530602</td><td>4.765215</td><td>0.571554</td><td>null</td><td>null</td><td>-0.226891</td><td>-0.251412</td><td>-0.215522</td><td>-0.296244</td><td>0.408499</td><td>0.223992</td><td>2.294888</td><td>1.097444</td><td>1.225872</td><td>1.225376</td><td>1.114137</td><td>0.775199</td><td>-1.379516</td></tr><tr><td>0</td><td>0</td><td>14</td><td>0.44057</td><td>null</td><td>null</td><td>null</td><td>null</td><td>null</td><td>0.9552</td><td>0.262404</td><td>0.344457</td><td>-0.613813</td><td>44</td><td>3</td><td>16</td><td>-0.947351</td><td>-0.030018</td><td>-0.502379</td><td>null</td><td>0.646086</td><td>null</td><td>-1.844685</td><td>-1.58656</td><td>-0.182024</td><td>null</td><td>-0.969949</td><td>-0.673813</td><td>-1.282132</td><td>-1.399894</td><td>null</td><td>null</td><td>0.043815</td><td>-0.320225</td><td>-0.031713</td><td>null</td><td>null</td><td>&hellip;</td><td>1.253902</td><td>null</td><td>null</td><td>0.476195</td><td>null</td><td>-0.771732</td><td>2.843421</td><td>null</td><td>1.379815</td><td>0.411827</td><td>-1.36224</td><td>null</td><td>null</td><td>null</td><td>null</td><td>null</td><td>-0.948601</td><td>-0.136814</td><td>-0.447704</td><td>-1.141761</td><td>0.099631</td><td>-0.661928</td><td>null</td><td>null</td><td>3.678076</td><td>2.793581</td><td>2.61825</td><td>3.418133</td><td>-0.373387</td><td>-0.502764</td><td>-0.348021</td><td>-3.928148</td><td>-1.591366</td><td>-5.0</td><td>-3.57282</td><td>-1.089123</td><td>-5.0</td></tr></tbody></table></div>"
      ]
     },
     "execution_count": 3,
     "metadata": {},
     "output_type": "execute_result"
    }
   ],
   "execution_count": 3
  },
  {
   "metadata": {},
   "cell_type": "markdown",
   "source": "### Distributions",
   "id": "6a172f73b21752f7"
  },
  {
   "metadata": {
    "ExecuteTime": {
     "end_time": "2024-11-26T16:08:51.760620Z",
     "start_time": "2024-11-26T16:08:42.295075Z"
    }
   },
   "cell_type": "code",
   "source": "df_train.describe()",
   "id": "5e2c6955be2a1ed7",
   "outputs": [
    {
     "data": {
      "text/plain": [
       "shape: (9, 93)\n",
       "┌───────────┬───────────┬───────────┬───────────┬───┬───────────┬───────────┬───────────┬──────────┐\n",
       "│ statistic ┆ date_id   ┆ time_id   ┆ symbol_id ┆ … ┆ responder ┆ responder ┆ responder ┆ responde │\n",
       "│ ---       ┆ ---       ┆ ---       ┆ ---       ┆   ┆ _5        ┆ _6        ┆ _7        ┆ r_8      │\n",
       "│ str       ┆ f64       ┆ f64       ┆ f64       ┆   ┆ ---       ┆ ---       ┆ ---       ┆ ---      │\n",
       "│           ┆           ┆           ┆           ┆   ┆ f64       ┆ f64       ┆ f64       ┆ f64      │\n",
       "╞═══════════╪═══════════╪═══════════╪═══════════╪═══╪═══════════╪═══════════╪═══════════╪══════════╡\n",
       "│ count     ┆ 3.2984858 ┆ 3.2984858 ┆ 3.2984858 ┆ … ┆ 3.2984858 ┆ 3.2984858 ┆ 3.2984858 ┆ 3.298485 │\n",
       "│           ┆ e7        ┆ e7        ┆ e7        ┆   ┆ e7        ┆ e7        ┆ e7        ┆ 8e7      │\n",
       "│ null_coun ┆ 0.0       ┆ 0.0       ┆ 0.0       ┆ … ┆ 0.0       ┆ 0.0       ┆ 0.0       ┆ 0.0      │\n",
       "│ t         ┆           ┆           ┆           ┆   ┆           ┆           ┆           ┆          │\n",
       "│ mean      ┆ 790.55355 ┆ 462.36257 ┆ 17.718772 ┆ … ┆ -0.003101 ┆ -0.002612 ┆ 0.000097  ┆ -0.00135 │\n",
       "│           ┆ 4         ┆ 6         ┆           ┆   ┆           ┆           ┆           ┆ 3        │\n",
       "│ std       ┆ 351.98058 ┆ 269.24899 ┆ 11.305788 ┆ … ┆ 0.672516  ┆ 0.909948  ┆ 0.937307  ┆ 0.885248 │\n",
       "│           ┆ 7         ┆ 6         ┆           ┆   ┆           ┆           ┆           ┆          │\n",
       "│ min       ┆ 0.0       ┆ 0.0       ┆ 0.0       ┆ … ┆ -5.0      ┆ -5.0      ┆ -5.0      ┆ -5.0     │\n",
       "│ 25%       ┆ 529.0     ┆ 230.0     ┆ 9.0       ┆ … ┆ -0.221853 ┆ -0.385583 ┆ -0.422944 ┆ -0.32973 │\n",
       "│           ┆           ┆           ┆           ┆   ┆           ┆           ┆           ┆ 3        │\n",
       "│ 50%       ┆ 839.0     ┆ 461.0     ┆ 16.0      ┆ … ┆ -0.00745  ┆ -0.022462 ┆ -0.035087 ┆ -0.00648 │\n",
       "│           ┆           ┆           ┆           ┆   ┆           ┆           ┆           ┆ 5        │\n",
       "│ 75%       ┆ 1093.0    ┆ 691.0     ┆ 28.0      ┆ … ┆ 0.202909  ┆ 0.341596  ┆ 0.363155  ┆ 0.310241 │\n",
       "│ max       ┆ 1313.0    ┆ 967.0     ┆ 38.0      ┆ … ┆ 5.0       ┆ 5.0       ┆ 5.0       ┆ 5.0      │\n",
       "└───────────┴───────────┴───────────┴───────────┴───┴───────────┴───────────┴───────────┴──────────┘"
      ],
      "text/html": [
       "<div><style>\n",
       ".dataframe > thead > tr,\n",
       ".dataframe > tbody > tr {\n",
       "  text-align: right;\n",
       "  white-space: pre-wrap;\n",
       "}\n",
       "</style>\n",
       "<small>shape: (9, 93)</small><table border=\"1\" class=\"dataframe\"><thead><tr><th>statistic</th><th>date_id</th><th>time_id</th><th>symbol_id</th><th>weight</th><th>feature_00</th><th>feature_01</th><th>feature_02</th><th>feature_03</th><th>feature_04</th><th>feature_05</th><th>feature_06</th><th>feature_07</th><th>feature_08</th><th>feature_09</th><th>feature_10</th><th>feature_11</th><th>feature_12</th><th>feature_13</th><th>feature_14</th><th>feature_15</th><th>feature_16</th><th>feature_17</th><th>feature_18</th><th>feature_19</th><th>feature_20</th><th>feature_21</th><th>feature_22</th><th>feature_23</th><th>feature_24</th><th>feature_25</th><th>feature_26</th><th>feature_27</th><th>feature_28</th><th>feature_29</th><th>feature_30</th><th>feature_31</th><th>&hellip;</th><th>feature_51</th><th>feature_52</th><th>feature_53</th><th>feature_54</th><th>feature_55</th><th>feature_56</th><th>feature_57</th><th>feature_58</th><th>feature_59</th><th>feature_60</th><th>feature_61</th><th>feature_62</th><th>feature_63</th><th>feature_64</th><th>feature_65</th><th>feature_66</th><th>feature_67</th><th>feature_68</th><th>feature_69</th><th>feature_70</th><th>feature_71</th><th>feature_72</th><th>feature_73</th><th>feature_74</th><th>feature_75</th><th>feature_76</th><th>feature_77</th><th>feature_78</th><th>responder_0</th><th>responder_1</th><th>responder_2</th><th>responder_3</th><th>responder_4</th><th>responder_5</th><th>responder_6</th><th>responder_7</th><th>responder_8</th></tr><tr><td>str</td><td>f64</td><td>f64</td><td>f64</td><td>f64</td><td>f64</td><td>f64</td><td>f64</td><td>f64</td><td>f64</td><td>f64</td><td>f64</td><td>f64</td><td>f64</td><td>f64</td><td>f64</td><td>f64</td><td>f64</td><td>f64</td><td>f64</td><td>f64</td><td>f64</td><td>f64</td><td>f64</td><td>f64</td><td>f64</td><td>f64</td><td>f64</td><td>f64</td><td>f64</td><td>f64</td><td>f64</td><td>f64</td><td>f64</td><td>f64</td><td>f64</td><td>f64</td><td>&hellip;</td><td>f64</td><td>f64</td><td>f64</td><td>f64</td><td>f64</td><td>f64</td><td>f64</td><td>f64</td><td>f64</td><td>f64</td><td>f64</td><td>f64</td><td>f64</td><td>f64</td><td>f64</td><td>f64</td><td>f64</td><td>f64</td><td>f64</td><td>f64</td><td>f64</td><td>f64</td><td>f64</td><td>f64</td><td>f64</td><td>f64</td><td>f64</td><td>f64</td><td>f64</td><td>f64</td><td>f64</td><td>f64</td><td>f64</td><td>f64</td><td>f64</td><td>f64</td><td>f64</td></tr></thead><tbody><tr><td>&quot;count&quot;</td><td>3.2984858e7</td><td>3.2984858e7</td><td>3.2984858e7</td><td>3.2984858e7</td><td>2.9802806e7</td><td>2.9802806e7</td><td>2.9802806e7</td><td>2.9802806e7</td><td>2.9802806e7</td><td>3.2984858e7</td><td>3.2984858e7</td><td>3.2984858e7</td><td>3.2888859e7</td><td>3.2984858e7</td><td>3.2984858e7</td><td>3.2984858e7</td><td>3.2984858e7</td><td>3.2984858e7</td><td>3.2984858e7</td><td>3.2126199e7</td><td>3.2984597e7</td><td>3.284146e7</td><td>3.2984632e7</td><td>3.2984632e7</td><td>3.2984858e7</td><td>2.4628249e7</td><td>3.2984858e7</td><td>3.2984858e7</td><td>3.2984858e7</td><td>3.2984858e7</td><td>2.4628249e7</td><td>2.4628249e7</td><td>3.2984858e7</td><td>3.2984858e7</td><td>3.2984858e7</td><td>2.4628249e7</td><td>&hellip;</td><td>3.2971053e7</td><td>3.220294e7</td><td>2.972424e7</td><td>3.2971053e7</td><td>3.220294e7</td><td>3.2984632e7</td><td>3.2984632e7</td><td>3.2645614e7</td><td>3.2984858e7</td><td>3.2984858e7</td><td>3.2984858e7</td><td>3.2692164e7</td><td>3.2757388e7</td><td>3.2747296e7</td><td>3.2668029e7</td><td>3.2668029e7</td><td>3.2984858e7</td><td>3.2984858e7</td><td>3.2984858e7</td><td>3.2984858e7</td><td>3.2984858e7</td><td>3.2984858e7</td><td>3.2642355e7</td><td>3.2642355e7</td><td>3.295625e7</td><td>3.295625e7</td><td>3.2971421e7</td><td>3.2971421e7</td><td>3.2984858e7</td><td>3.2984858e7</td><td>3.2984858e7</td><td>3.2984858e7</td><td>3.2984858e7</td><td>3.2984858e7</td><td>3.2984858e7</td><td>3.2984858e7</td><td>3.2984858e7</td></tr><tr><td>&quot;null_count&quot;</td><td>0.0</td><td>0.0</td><td>0.0</td><td>0.0</td><td>3.182052e6</td><td>3.182052e6</td><td>3.182052e6</td><td>3.182052e6</td><td>3.182052e6</td><td>0.0</td><td>0.0</td><td>0.0</td><td>95999.0</td><td>0.0</td><td>0.0</td><td>0.0</td><td>0.0</td><td>0.0</td><td>0.0</td><td>858659.0</td><td>261.0</td><td>143398.0</td><td>226.0</td><td>226.0</td><td>0.0</td><td>8.356609e6</td><td>0.0</td><td>0.0</td><td>0.0</td><td>0.0</td><td>8.356609e6</td><td>8.356609e6</td><td>0.0</td><td>0.0</td><td>0.0</td><td>8.356609e6</td><td>&hellip;</td><td>13805.0</td><td>781918.0</td><td>3.260618e6</td><td>13805.0</td><td>781918.0</td><td>226.0</td><td>226.0</td><td>339244.0</td><td>0.0</td><td>0.0</td><td>0.0</td><td>292694.0</td><td>227470.0</td><td>237562.0</td><td>316829.0</td><td>316829.0</td><td>0.0</td><td>0.0</td><td>0.0</td><td>0.0</td><td>0.0</td><td>0.0</td><td>342503.0</td><td>342503.0</td><td>28608.0</td><td>28608.0</td><td>13437.0</td><td>13437.0</td><td>0.0</td><td>0.0</td><td>0.0</td><td>0.0</td><td>0.0</td><td>0.0</td><td>0.0</td><td>0.0</td><td>0.0</td></tr><tr><td>&quot;mean&quot;</td><td>790.553554</td><td>462.362576</td><td>17.718772</td><td>1.828102</td><td>0.122263</td><td>-0.01368</td><td>0.124301</td><td>0.123898</td><td>-0.004374</td><td>-0.028146</td><td>-0.004135</td><td>-0.010677</td><td>0.057588</td><td>32.881209</td><td>4.840214</td><td>172.225653</td><td>-0.022161</td><td>-0.015885</td><td>-0.024635</td><td>-0.068272</td><td>-0.052487</td><td>-0.064351</td><td>0.012252</td><td>-0.005214</td><td>-0.169221</td><td>0.019181</td><td>0.030641</td><td>0.053206</td><td>0.137534</td><td>0.027036</td><td>-0.045934</td><td>-0.149635</td><td>-0.066765</td><td>-0.066517</td><td>-0.06216</td><td>0.016709</td><td>&hellip;</td><td>-0.026979</td><td>-0.038404</td><td>0.034889</td><td>0.019502</td><td>0.031358</td><td>-0.017548</td><td>0.010742</td><td>-0.009973</td><td>-0.001921</td><td>-0.004928</td><td>-0.000539</td><td>-0.095212</td><td>-0.074635</td><td>-0.084126</td><td>-0.009926</td><td>-0.014039</td><td>-0.021379</td><td>-0.013176</td><td>-0.022215</td><td>-0.020492</td><td>-0.013323</td><td>-0.023196</td><td>-0.036002</td><td>-0.038443</td><td>-0.023147</td><td>-0.025374</td><td>-0.026904</td><td>-0.029127</td><td>-0.001292</td><td>-0.001177</td><td>-0.000206</td><td>-0.004332</td><td>-0.004164</td><td>-0.003101</td><td>-0.002612</td><td>0.000097</td><td>-0.001353</td></tr><tr><td>&quot;std&quot;</td><td>351.980587</td><td>269.248996</td><td>11.305788</td><td>1.037553</td><td>1.036687</td><td>1.048828</td><td>1.036778</td><td>1.036302</td><td>1.024007</td><td>1.013443</td><td>1.033632</td><td>1.030019</td><td>1.006277</td><td>24.105205</td><td>2.964258</td><td>165.455039</td><td>0.966445</td><td>0.97566</td><td>0.973699</td><td>1.014811</td><td>1.004281</td><td>1.012696</td><td>1.035698</td><td>1.0528</td><td>0.974685</td><td>1.080171</td><td>0.993629</td><td>0.98714</td><td>1.212492</td><td>1.013893</td><td>1.025038</td><td>1.068237</td><td>1.031001</td><td>0.988799</td><td>1.034836</td><td>0.884922</td><td>&hellip;</td><td>1.010242</td><td>1.028723</td><td>1.037942</td><td>1.010217</td><td>1.027041</td><td>1.015008</td><td>1.034891</td><td>0.975516</td><td>0.973799</td><td>0.975934</td><td>1.106911</td><td>0.84264</td><td>0.846316</td><td>0.845181</td><td>1.041653</td><td>1.052071</td><td>0.967034</td><td>0.969113</td><td>0.971065</td><td>0.964999</td><td>0.964864</td><td>0.971879</td><td>0.92723</td><td>0.924615</td><td>0.925642</td><td>0.922084</td><td>0.920019</td><td>0.920847</td><td>0.628466</td><td>0.6279</td><td>0.635972</td><td>0.77962</td><td>0.870673</td><td>0.672516</td><td>0.909948</td><td>0.937307</td><td>0.885248</td></tr><tr><td>&quot;min&quot;</td><td>0.0</td><td>0.0</td><td>0.0</td><td>0.149967</td><td>-5.794129</td><td>-5.741592</td><td>-5.72601</td><td>-5.60189</td><td>-5.79988</td><td>-25.350399</td><td>-58.604362</td><td>-39.085358</td><td>-15.566865</td><td>2.0</td><td>1.0</td><td>9.0</td><td>-1.913078</td><td>-0.921612</td><td>-1.399126</td><td>-1.66345</td><td>-1.760566</td><td>-1.708957</td><td>-6.000734</td><td>-5.772067</td><td>-4.620031</td><td>-0.558637</td><td>-2.602898</td><td>-2.585011</td><td>-3.234935</td><td>-2.178431</td><td>-3.451056</td><td>-3.475544</td><td>-4.063898</td><td>-1.26976</td><td>-1.355259</td><td>-0.503498</td><td>&hellip;</td><td>-5.316484</td><td>-5.356531</td><td>-5.353856</td><td>-5.606056</td><td>-5.698468</td><td>-5.528082</td><td>-5.369931</td><td>-36.406746</td><td>-169.922882</td><td>-62.636726</td><td>-5.740418</td><td>-0.932498</td><td>-0.834446</td><td>-0.952489</td><td>-5.220601</td><td>-5.906378</td><td>-1.698194</td><td>-0.740409</td><td>-1.321859</td><td>-1.894538</td><td>-0.825984</td><td>-1.401122</td><td>-5.180216</td><td>-5.307837</td><td>-5.645136</td><td>-5.040298</td><td>-5.181339</td><td>-6.159515</td><td>-5.0</td><td>-5.0</td><td>-5.0</td><td>-5.0</td><td>-5.0</td><td>-5.0</td><td>-5.0</td><td>-5.0</td><td>-5.0</td></tr><tr><td>&quot;25%&quot;</td><td>529.0</td><td>230.0</td><td>9.0</td><td>1.109856</td><td>-0.563663</td><td>-0.720559</td><td>-0.559859</td><td>-0.560396</td><td>-0.699468</td><td>-0.470634</td><td>-0.395637</td><td>-0.433353</td><td>-0.399035</td><td>11.0</td><td>3.0</td><td>59.0</td><td>-0.510782</td><td>-0.39385</td><td>-0.485089</td><td>-0.588704</td><td>-0.54918</td><td>-0.58128</td><td>-0.684364</td><td>-0.702012</td><td>-0.782218</td><td>-0.214341</td><td>-0.706063</td><td>-0.731468</td><td>-0.678606</td><td>-0.770729</td><td>-0.78433</td><td>-0.961839</td><td>-0.830935</td><td>-0.604716</td><td>-0.620794</td><td>-0.216137</td><td>&hellip;</td><td>-0.705922</td><td>-0.749814</td><td>-0.669167</td><td>-0.643517</td><td>-0.66315</td><td>-0.699538</td><td>-0.69435</td><td>-0.388978</td><td>-0.18921</td><td>-0.319711</td><td>-0.718848</td><td>-0.351775</td><td>-0.349619</td><td>-0.343357</td><td>-0.722562</td><td>-0.718345</td><td>-0.50111</td><td>-0.336208</td><td>-0.454149</td><td>-0.51608</td><td>-0.366793</td><td>-0.496193</td><td>-0.353971</td><td>-0.357966</td><td>-0.296175</td><td>-0.305993</td><td>-0.306176</td><td>-0.311238</td><td>-0.197362</td><td>-0.1721</td><td>-0.190688</td><td>-0.312878</td><td>-0.385509</td><td>-0.221853</td><td>-0.385583</td><td>-0.422944</td><td>-0.329733</td></tr><tr><td>&quot;50%&quot;</td><td>839.0</td><td>461.0</td><td>16.0</td><td>1.597222</td><td>0.097358</td><td>-0.009877</td><td>0.099762</td><td>0.099046</td><td>-0.002197</td><td>-0.053774</td><td>-0.009876</td><td>-0.031825</td><td>0.068108</td><td>30.0</td><td>4.0</td><td>76.0</td><td>-0.238623</td><td>-0.263468</td><td>-0.26182</td><td>-0.35558</td><td>-0.328501</td><td>-0.352184</td><td>0.023383</td><td>0.00739</td><td>-0.180802</td><td>-0.098334</td><td>-0.118288</td><td>-0.127325</td><td>-0.029158</td><td>-0.200868</td><td>-0.013135</td><td>-0.212826</td><td>-0.0706</td><td>-0.406245</td><td>-0.378407</td><td>-0.097233</td><td>&hellip;</td><td>-0.060406</td><td>-0.047981</td><td>0.038572</td><td>0.04552</td><td>0.042926</td><td>-0.013104</td><td>0.008506</td><td>0.003693</td><td>-0.003714</td><td>-0.002371</td><td>0.009771</td><td>-0.243414</td><td>-0.242604</td><td>-0.237543</td><td>-0.002525</td><td>-0.007357</td><td>-0.247898</td><td>-0.241142</td><td>-0.261394</td><td>-0.231053</td><td>-0.255276</td><td>-0.262152</td><td>-0.250532</td><td>-0.239205</td><td>-0.237763</td><td>-0.227998</td><td>-0.226184</td><td>-0.215214</td><td>-0.004562</td><td>-0.024178</td><td>-0.000921</td><td>-0.021881</td><td>-0.039385</td><td>-0.00745</td><td>-0.022462</td><td>-0.035087</td><td>-0.006485</td></tr><tr><td>&quot;75%&quot;</td><td>1093.0</td><td>691.0</td><td>28.0</td><td>2.263543</td><td>0.759123</td><td>0.692773</td><td>0.760398</td><td>0.760108</td><td>0.691862</td><td>0.382092</td><td>0.371787</td><td>0.376827</td><td>0.537676</td><td>50.0</td><td>7.0</td><td>261.0</td><td>0.172271</td><td>0.016357</td><td>0.115072</td><td>0.026197</td><td>0.050143</td><td>0.032549</td><td>0.713752</td><td>0.716747</td><td>0.42404</td><td>0.112193</td><td>0.644029</td><td>0.828943</td><td>0.756399</td><td>0.706759</td><td>0.464801</td><td>0.686668</td><td>0.725399</td><td>0.028874</td><td>0.045631</td><td>0.112645</td><td>&hellip;</td><td>0.640996</td><td>0.656352</td><td>0.743251</td><td>0.681589</td><td>0.742495</td><td>0.668575</td><td>0.716057</td><td>0.386532</td><td>0.190144</td><td>0.326904</td><td>0.692557</td><td>-0.057675</td><td>-0.05062</td><td>-0.057726</td><td>0.697011</td><td>0.7115</td><td>0.14936</td><td>-0.029677</td><td>0.077236</td><td>0.191041</td><td>-0.001211</td><td>0.133488</td><td>0.017879</td><td>0.021828</td><td>-0.101477</td><td>-0.087205</td><td>-0.004014</td><td>0.000486</td><td>0.189034</td><td>0.136642</td><td>0.189684</td><td>0.272492</td><td>0.326658</td><td>0.202909</td><td>0.341596</td><td>0.363155</td><td>0.310241</td></tr><tr><td>&quot;max&quot;</td><td>1313.0</td><td>967.0</td><td>38.0</td><td>10.240419</td><td>6.069376</td><td>6.184477</td><td>6.075621</td><td>5.977812</td><td>6.16416</td><td>35.726223</td><td>93.644058</td><td>54.941608</td><td>21.695173</td><td>82.0</td><td>12.0</td><td>539.0</td><td>66.699547</td><td>381.20224</td><td>96.047394</td><td>111.079552</td><td>220.132477</td><td>134.500641</td><td>5.82537</td><td>5.972393</td><td>5.421159</td><td>161.486771</td><td>4.128449</td><td>3.24372</td><td>8.37136</td><td>4.136297</td><td>4.702494</td><td>2.61836</td><td>2.88091</td><td>7.534706</td><td>9.410683</td><td>127.98037</td><td>&hellip;</td><td>5.809254</td><td>5.672063</td><td>5.705534</td><td>5.173214</td><td>5.216465</td><td>5.696934</td><td>5.514725</td><td>58.441505</td><td>256.867371</td><td>120.785431</td><td>5.746197</td><td>131.933029</td><td>162.320709</td><td>149.883102</td><td>5.634984</td><td>5.506951</td><td>63.602924</td><td>336.036957</td><td>90.320091</td><td>65.042694</td><td>735.592896</td><td>216.262894</td><td>200.948776</td><td>228.661392</td><td>213.313828</td><td>260.911194</td><td>206.58992</td><td>257.45401</td><td>5.0</td><td>5.0</td><td>5.0</td><td>5.0</td><td>5.0</td><td>5.0</td><td>5.0</td><td>5.0</td><td>5.0</td></tr></tbody></table></div>"
      ]
     },
     "execution_count": 4,
     "metadata": {},
     "output_type": "execute_result"
    }
   ],
   "execution_count": 4
  },
  {
   "metadata": {},
   "cell_type": "markdown",
   "source": "Most features exhibit strong outliers (100x the standard deviation), i.e. their distributions have fat tails.",
   "id": "c0c1e04b45ef6443"
  },
  {
   "metadata": {},
   "cell_type": "code",
   "source": [
    "# compare the observed distribution of responder_6 with a normal distribution\n",
    "sns.histplot(data=df_train, x='responder_6', stat='density').set(title='Distribution of responder_6')\n",
    "\n",
    "# Calculate mean and standard deviation\n",
    "mean = df_train['responder_6'].mean()\n",
    "std = df_train['responder_6'].std()\n",
    "\n",
    "# Create a range for x-axis\n",
    "xmin, xmax = plt.xlim()\n",
    "x = np.linspace(xmin, xmax, 100)\n",
    "\n",
    "# Compute the normal distribution PDF\n",
    "p = norm.pdf(x, mean, std)\n",
    "\n",
    "# Overlay the normal distribution curve\n",
    "plt.plot(x, p, 'k', linewidth=2)\n",
    "\n",
    "# Display the plot\n",
    "plt.show()"
   ],
   "id": "eac950ad93c5c024",
   "outputs": [],
   "execution_count": null
  },
  {
   "metadata": {},
   "cell_type": "markdown",
   "source": "Responder_6 has higher kurtosis than a normal distribution.",
   "id": "40d5913f792b5034"
  },
  {
   "metadata": {},
   "cell_type": "markdown",
   "source": "### Correlation of features with responder_6",
   "id": "a8ddb97bf1accc7a"
  },
  {
   "metadata": {},
   "cell_type": "code",
   "source": [
    "results = []\n",
    "\n",
    "for i in range(79):\n",
    "    # get i as a two-digit string with leading zeros if necessary\n",
    "    responder_name = f'feature_{i:02}'\n",
    "    print(f'{responder_name}')\n",
    "    \n",
    "    df_subset = df_train.select(['responder_6', responder_name]).filter(pl.col(responder_name).is_not_null())\n",
    "    \n",
    "    if df_subset[responder_name].dtype == pl.Int8 or df_subset[responder_name].dtype == pl.Int16:\n",
    "        df_subset = df_subset.with_columns(df_subset[responder_name].cast(pl.Float32))\n",
    "        print(f'{responder_name} was casted to float32')\n",
    "    \n",
    "    pearson_corr = np.corrcoef(df_subset[responder_name].to_numpy(), df_subset['responder_6'].to_numpy())[0, 1]\n",
    "    dist_corr = dcor.distance_correlation(np.array(df_subset[responder_name], dtype='float64'), np.array(df_subset['responder_6'], dtype='float64'))\n",
    "    \n",
    "    results.append([responder_name, pearson_corr, dist_corr])\n",
    "    \n",
    "df_results = pl.DataFrame(results, ['feature', 'pearson_correlation', 'distance_correlation'], orient='row')"
   ],
   "id": "7bd3e4fc7ad044a7",
   "outputs": [],
   "execution_count": null
  },
  {
   "metadata": {},
   "cell_type": "code",
   "source": "df_results.sort('pearson_correlation').tail()",
   "id": "97b72cd67411472a",
   "outputs": [],
   "execution_count": null
  },
  {
   "metadata": {},
   "cell_type": "code",
   "source": "df_results.sort('distance_correlation').tail()",
   "id": "a0a0f19f394de651",
   "outputs": [],
   "execution_count": null
  },
  {
   "metadata": {},
   "cell_type": "code",
   "source": "df_results.describe()",
   "id": "a005b48f92319056",
   "outputs": [],
   "execution_count": null
  },
  {
   "metadata": {},
   "cell_type": "markdown",
   "source": [
    "The maximum distance correlation is .146, the maximum Pearson correlation is .022.\n",
    "\n",
    "According to distance correlation, the 5 most promising features are:\n",
    "- 14\n",
    "- 69\n",
    "- 72\n",
    "- 13\n",
    "- 68\n",
    "\n",
    "According to distance correlation, the 5 most promising features are:\n",
    "- 60\n",
    "- 51\n",
    "- 59\n",
    "- 58\n",
    "- 54\n",
    "\n",
    "All of these features are almost available."
   ],
   "id": "2a091dd7a09f6c84"
  },
  {
   "metadata": {},
   "cell_type": "markdown",
   "source": "### Correlation of responders with responder_6",
   "id": "fe9d28f7f95b2f65"
  },
  {
   "metadata": {},
   "cell_type": "code",
   "source": [
    "results = []\n",
    "\n",
    "for i in range(9):\n",
    "    if i == 6:\n",
    "        continue\n",
    "    \n",
    "    responder_name = f'responder_{i}'\n",
    "    print(f'{responder_name}')\n",
    "\n",
    "    df_subset = df_train.select(['responder_6', responder_name]).filter(pl.col(responder_name).is_not_null())\n",
    "\n",
    "    if df_subset[responder_name].dtype == pl.Int8 or df_subset[responder_name].dtype == pl.Int16:\n",
    "        df_subset = df_subset.with_column(df_subset[responder_name].cast(pl.Float32))\n",
    "        print(f'{responder_name} was casted to float32')\n",
    "\n",
    "    pearson_corr = np.corrcoef(df_subset[responder_name].to_numpy(), df_subset['responder_6'].to_numpy())[0, 1]\n",
    "    dist_corr = dcor.distance_correlation(np.array(df_subset[responder_name], dtype='float64'),\n",
    "                                          np.array(df_subset['responder_6'], dtype='float64'))\n",
    "\n",
    "    results.append([responder_name, pearson_corr, dist_corr])\n",
    "\n",
    "df_results = pl.DataFrame(results, ['responder', 'pearson_correlation', 'distance_correlation'], orient='row')"
   ],
   "id": "896408a7e661e382",
   "outputs": [],
   "execution_count": null
  },
  {
   "metadata": {},
   "cell_type": "code",
   "source": "df_results",
   "id": "54a263b156bc9186",
   "outputs": [],
   "execution_count": null
  },
  {
   "metadata": {},
   "cell_type": "markdown",
   "source": "There is strong correlation with other responders. Distance correlation is between .09 and .81. However, these are not available at prediction time. We'll also look into correlation with the lags below.",
   "id": "a9ecb8c2b03d1862"
  },
  {
   "metadata": {},
   "cell_type": "markdown",
   "source": "### Stationarity of responder_6",
   "id": "392fe9f34e15dbce"
  },
  {
   "metadata": {},
   "cell_type": "code",
   "source": "df_responder_by_date = df_train.group_by('date_id').agg(pl.col('responder_6').mean().alias('responder_6_mean'), pl.col('responder_6').std().alias('responder_6_std'))",
   "id": "599d230803ec1cc1",
   "outputs": [],
   "execution_count": null
  },
  {
   "metadata": {},
   "cell_type": "code",
   "source": "df_responder_by_date.plot.line(x='date_id', y='responder_6_mean')",
   "id": "d9cb078821558eef",
   "outputs": [],
   "execution_count": null
  },
  {
   "metadata": {},
   "cell_type": "code",
   "source": "df_responder_by_date.plot.line(x='date_id', y='responder_6_std')",
   "id": "eb590821c289972c",
   "outputs": [],
   "execution_count": null
  },
  {
   "metadata": {},
   "cell_type": "markdown",
   "source": "Despite an unstable collection of symbols, the mean and standard deviation of the responder look relatively stable.",
   "id": "5424bcfa90a8bdf7"
  },
  {
   "metadata": {},
   "cell_type": "markdown",
   "source": "### Stationarity of features",
   "id": "f7b09277fbfd94fe"
  },
  {
   "metadata": {},
   "cell_type": "code",
   "source": [
    "feature_number = 0\n",
    "feature = f'feature_{feature_number:02}' \n",
    "\n",
    "df_feature_by_date = df_train.group_by('date_id').agg(pl.col(feature).mean().alias('feature_mean'), pl.col(feature).std().alias('feature_std'))\n",
    "\n",
    "df_feature_by_date.plot.line(x='date_id', y='feature_mean').show()\n",
    "df_feature_by_date.plot.line(x='date_id', y='feature_std').show()"
   ],
   "id": "504b07f4dbbf7b50",
   "outputs": [],
   "execution_count": null
  },
  {
   "metadata": {},
   "cell_type": "markdown",
   "source": [
    "Features 0, 2, 3, 15, 16, 17, 20, 22, 23, 24, 25, 27, 28, 29, 30 show some variation over time, but no clear pattern.\n",
    "\n",
    "Features 26, 44, 62, 63, 64 show a decreasing mean. This may be due to the addition of new symbols over time.\n",
    "\n",
    "Features 32, 34, 35, 61 may show a seasonal pattern.\n",
    "\n",
    "Features 39, 40, 41, 42, 43, 44, 45, 62, 63, 64 show a decreasing std. (Other variables also seem to have a decreasing std, but not as pronounced.)  This may be due to the addition of new symbols over time."
   ],
   "id": "ce0b0907fd290838"
  },
  {
   "metadata": {},
   "cell_type": "markdown",
   "source": "### Responder by symbol",
   "id": "cdae55c3d40c320c"
  },
  {
   "metadata": {},
   "cell_type": "code",
   "source": [
    "df_responder_by_symbol = df_train.group_by('symbol_id').agg(pl.col('responder_6').mean().alias('responder_6_mean'), pl.col('responder_6').std().alias('responder_6_std'))\n",
    "df_responder_by_symbol.describe()"
   ],
   "id": "bdc50b7985135af9",
   "outputs": [],
   "execution_count": null
  },
  {
   "metadata": {},
   "cell_type": "markdown",
   "source": [
    "The mean is (basically) zero for all symbols. The standard deviation varies between 0.7 and 1.1, also no huge variation.\n",
    "\n",
    "We'll use the `symbol_id` as a categorical variable in the model."
   ],
   "id": "333427deb89ff58b"
  },
  {
   "metadata": {},
   "cell_type": "markdown",
   "source": "### Correlation between symbols",
   "id": "8fedf732d4bfe054"
  },
  {
   "metadata": {},
   "cell_type": "code",
   "source": "df_symbols = df_train.select('date_id', 'time_id', 'symbol_id', 'responder_6')",
   "id": "ff17aba0b345d9e8",
   "outputs": [],
   "execution_count": null
  },
  {
   "metadata": {},
   "cell_type": "code",
   "source": [
    "# convert from long format to wide format\n",
    "df_symbols_pivot = df_symbols.pivot('symbol_id', index=['date_id', 'time_id'], values='responder_6').select(pl.exclude(['date_id', 'time_id']))"
   ],
   "id": "69e688396fcbef90",
   "outputs": [],
   "execution_count": null
  },
  {
   "metadata": {},
   "cell_type": "code",
   "source": [
    "# re-sort columns\n",
    "columns = [str(i) for i in range(39)]\n",
    "df_symbols_pivot = df_symbols_pivot.select(columns)"
   ],
   "id": "e2c83f35214d88c0",
   "outputs": [],
   "execution_count": null
  },
  {
   "metadata": {},
   "cell_type": "code",
   "source": [
    "# we'll cheat here a bit for simplicity and only consider rows for which we have all symbols\n",
    "df_corr = df_symbols_pivot.drop_nulls().corr()"
   ],
   "id": "e9ff41a3f4f6b256",
   "outputs": [],
   "execution_count": null
  },
  {
   "metadata": {},
   "cell_type": "code",
   "source": [
    "# heatmap of correlation matrix - only the lower triangle without the diagonal\n",
    "mask = np.triu(np.ones_like(df_corr.to_numpy()), k=0)\n",
    "plt.figure(figsize=(20, 12))\n",
    "\n",
    "# show the values in the heatmap, rounded to two decimals\n",
    "sns.heatmap(df_corr.to_numpy(), annot=True, fmt=\".2f\", mask=mask, cmap='coolwarm')\n",
    "plt.show()\n",
    "\n"
   ],
   "id": "369e76c0f6d6672a",
   "outputs": [],
   "execution_count": null
  },
  {
   "metadata": {},
   "cell_type": "markdown",
   "source": "A few symbols are highly correlated, but most responders show very low correlation.",
   "id": "bea8f5c70b815397"
  },
  {
   "metadata": {},
   "cell_type": "markdown",
   "source": "### Autocorelation and correlation with lags of other symbols",
   "id": "8255e24a1e6d636b"
  },
  {
   "metadata": {},
   "cell_type": "code",
   "source": [
    "# Get the lag of responder_6 by one date_id, grouped by time_id and symbol_id\n",
    "df_train_with_lag = df_train.with_columns(pl.col('responder_6').shift(1).over(['time_id', 'symbol_id']).alias('responder_6_lag'))"
   ],
   "id": "749a99b2d53966ed",
   "outputs": [],
   "execution_count": null
  },
  {
   "metadata": {},
   "cell_type": "code",
   "source": "df_train_with_lag.select(pl.corr(\"responder_6\", \"responder_6_lag\"))",
   "id": "dbee13431e77dfe7",
   "outputs": [],
   "execution_count": null
  },
  {
   "metadata": {},
   "cell_type": "code",
   "source": [
    "df_train_with_lag_subset = df_train_with_lag.select([\"responder_6\", \"responder_6_lag\"]).drop_nulls()\n",
    "\n",
    "dcor.distance_correlation(np.array(df_train_with_lag_subset['responder_6'], dtype='float64'), np.array(df_train_with_lag_subset['responder_6_lag'], dtype='float64'))"
   ],
   "id": "3cf5366b48768515",
   "outputs": [],
   "execution_count": null
  },
  {
   "metadata": {},
   "cell_type": "markdown",
   "source": "The correlation between responder_6 and its 'one-day' lag is very low, although there is some distance correlation. We'll use it as a feature.",
   "id": "5687a6771b276276"
  },
  {
   "metadata": {},
   "cell_type": "code",
   "source": [
    "# Get the lag of responder_6 by one time_id, grouped by symbol_id\n",
    "df_train_with_time_lag = df_train.with_columns(pl.col('responder_6').shift(1).over(['symbol_id']).alias('responder_6_lag'))"
   ],
   "id": "11064d067a43e6bb",
   "outputs": [],
   "execution_count": null
  },
  {
   "metadata": {},
   "cell_type": "code",
   "source": "df_train_with_time_lag.select(pl.corr(\"responder_6\", \"responder_6_lag\"))",
   "id": "2c07405341141194",
   "outputs": [],
   "execution_count": null
  },
  {
   "metadata": {},
   "cell_type": "markdown",
   "source": "The correlation with the 'one-time' lag is very high, but will usually not be available.",
   "id": "cdbc40a97d63973e"
  },
  {
   "metadata": {},
   "cell_type": "code",
   "source": "df_train_with_time_lag.filter(pl.col('time_id') == 0).select(pl.corr(\"responder_6\", \"responder_6_lag\"))",
   "id": "ee2a3ad2786b6f20",
   "outputs": [],
   "execution_count": null
  },
  {
   "metadata": {},
   "cell_type": "markdown",
   "source": "The first time in the morning does not seem to be correlated with the last time the 'day' before.",
   "id": "eaa28c324fa89f70"
  },
  {
   "metadata": {},
   "cell_type": "code",
   "source": [
    "df_train_with_mean = df_train.with_columns(pl.col('responder_6').mean().over(['date_id', 'symbol_id']).alias('responder_6_mean'))\n",
    "df_train_with_mean.select(\"responder_6\", \"responder_6_mean\").describe()"
   ],
   "id": "bbf8b81a0260115d",
   "outputs": [],
   "execution_count": null
  },
  {
   "metadata": {},
   "cell_type": "markdown",
   "source": "The day-average of the responder is usually close to zero, but can vary between -3.75 and +3.5.",
   "id": "1f30d75d95f03994"
  },
  {
   "metadata": {},
   "cell_type": "code",
   "source": "df_train_with_mean_lag = df_train_with_mean.with_columns(pl.col('responder_6_mean').shift(1).over(['time_id', 'symbol_id']).alias('responder_6_mean_lag'))",
   "id": "1a0906e9ee4fd70a",
   "outputs": [],
   "execution_count": null
  },
  {
   "metadata": {},
   "cell_type": "code",
   "source": "df_train_with_mean_lag.select(pl.corr(\"responder_6\", \"responder_6_mean_lag\"))",
   "id": "aecc40748894043e",
   "outputs": [],
   "execution_count": null
  },
  {
   "metadata": {},
   "cell_type": "code",
   "source": [
    "df_train_with_mean_lag_subset = df_train_with_mean_lag.select([\"responder_6\", \"responder_6_mean_lag\"]).drop_nulls()\n",
    "\n",
    "dcor.distance_correlation(np.array(df_train_with_mean_lag_subset['responder_6'], dtype='float64'), np.array(df_train_with_mean_lag_subset['responder_6_mean_lag'], dtype='float64'))"
   ],
   "id": "2f4527936b9cdc3f",
   "outputs": [],
   "execution_count": null
  },
  {
   "metadata": {},
   "cell_type": "markdown",
   "source": "There seems to be weak distance correlation with the mean of the previous 'day'. We'll use it as a feature.",
   "id": "aa5758562e715afc"
  },
  {
   "metadata": {},
   "cell_type": "code",
   "source": [
    "df_train_with_std = df_train.with_columns(pl.col('responder_6').std().over(['date_id', 'symbol_id']).alias('responder_6_std'))\n",
    "df_train_with_std_lag = df_train_with_std.with_columns(pl.col('responder_6_std').shift(1).over(['time_id', 'symbol_id']).alias('responder_6_std_lag'))"
   ],
   "id": "f1f13e4f4ceb8602",
   "outputs": [],
   "execution_count": null
  },
  {
   "metadata": {},
   "cell_type": "code",
   "source": "df_train_with_std_lag.select(pl.corr(\"responder_6\", \"responder_6_std_lag\"))",
   "id": "7f6dde6a03f9a389",
   "outputs": [],
   "execution_count": null
  },
  {
   "metadata": {},
   "cell_type": "code",
   "source": [
    "df_train_with_std_lag_subset = df_train_with_std_lag.select([\"responder_6\", \"responder_6_std_lag\"]).drop_nulls()\n",
    "\n",
    "dcor.distance_correlation(np.array(df_train_with_std_lag_subset['responder_6'], dtype='float64'), np.array(df_train_with_std_lag_subset['responder_6_std_lag'], dtype='float64'))"
   ],
   "id": "fff8eceb51d07f63",
   "outputs": [],
   "execution_count": null
  },
  {
   "metadata": {},
   "cell_type": "markdown",
   "source": "There seems to be quite some distance correlation with the std of the previous 'day'. We'll use it as a feature.",
   "id": "22003f53204e1abe"
  },
  {
   "metadata": {},
   "cell_type": "code",
   "source": "df_train_responders = df_train.select('date_id', 'time_id', 'symbol_id', 'responder_6')",
   "id": "cee9ec77dd5a2ea6",
   "outputs": [],
   "execution_count": null
  },
  {
   "metadata": {},
   "cell_type": "code",
   "source": [
    "for i in range(39):\n",
    "    df_train_responders = df_train_responders.with_columns(pl.col('responder_6').filter(pl.col('symbol_id') == i).mean().over(['date_id']).alias(f'responder_6_symbol_{i}_mean'))\n",
    "    df_train_responders = df_train_responders.with_columns(pl.col(f'responder_6_symbol_{i}_mean').shift(1).over(['time_id', 'symbol_id']).alias(f'responder_6_symbol_{i}_mean_lag')).drop(pl.col(f'responder_6_symbol_{i}_mean'))"
   ],
   "id": "f143baa14d750d11",
   "outputs": [],
   "execution_count": null
  },
  {
   "metadata": {},
   "cell_type": "code",
   "source": [
    "# get the distance correlation of responder_6 with all responder_6_symbol_i_mean_lags\n",
    "results = []\n",
    "\n",
    "for i in range(39):\n",
    "    print(i)\n",
    "    df_symbol_subset = df_train_responders.filter(pl.col('symbol_id') == i)\n",
    "    \n",
    "    results_subset = []\n",
    "    for i in range(39):\n",
    "        df_symbol_lag_subset = df_symbol_subset.select(['responder_6', f'responder_6_symbol_{i}_mean_lag']).drop_nulls()\n",
    "        dist_corr = dcor.distance_correlation(np.array(df_symbol_lag_subset[f'responder_6'], dtype='float64'), np.array(df_symbol_lag_subset[f'responder_6_symbol_{i}_mean_lag'], dtype='float64'))\n",
    "        \n",
    "        results_subset.append(dist_corr)\n",
    "    results.append(results_subset)\n",
    "\n",
    "df_results = pl.DataFrame(results, [f'responder_6_symbol_{i}_mean_lag' for i in range(39)], orient='row')"
   ],
   "id": "c410bfdcd52f5370",
   "outputs": [],
   "execution_count": null
  },
  {
   "metadata": {},
   "cell_type": "code",
   "source": [
    "# heatmap of distance correlations\n",
    "plt.figure(figsize=(20, 12))\n",
    "\n",
    "# show the values in the heatmap, rounded to two decimals\n",
    "sns.heatmap(df_results.to_numpy(), annot=True, fmt=\".2f\", cmap='coolwarm')\n",
    "plt.show()"
   ],
   "id": "4a1fb2d04a0cec93",
   "outputs": [],
   "execution_count": null
  },
  {
   "metadata": {},
   "cell_type": "markdown",
   "source": [
    "Distance correlations are all lower than .08. We'll still use these lags as features and see what happens during feature selection.\n",
    "\n",
    "(Pearson correlations are all very low--between -.09 and .03)"
   ],
   "id": "748fbc6cc4f2753e"
  },
  {
   "metadata": {},
   "cell_type": "markdown",
   "source": "### Correlation with lags of other responders (by symbol)",
   "id": "85688c40c7c152ce"
  },
  {
   "metadata": {},
   "cell_type": "code",
   "source": [
    "for i in range(9):\n",
    "    if i == 6:\n",
    "        continue\n",
    "        \n",
    "    df_train_with_mean = df_train.with_columns(pl.col(f'responder_{i}').mean().over(['date_id', 'symbol_id']).alias(f'responder_{i}_mean'))\n",
    "    df_train_with_mean_lag = df_train_with_mean.with_columns(pl.col(f'responder_{i}_mean').shift(1).over(['time_id', 'symbol_id']).alias(f'responder_{i}_mean_lag'))\n",
    "    df_train_with_mean_lag_subset = df_train_with_mean_lag.select([\"responder_6\", f'responder_{i}_mean_lag']).drop_nulls()\n",
    "    \n",
    "    distance_corr = dcor.distance_correlation(np.array(df_train_with_mean_lag_subset['responder_6'], dtype='float64'), np.array(df_train_with_mean_lag_subset[f'responder_{i}_mean_lag'], dtype='float64'))\n",
    "    \n",
    "    print(f'distance correlation with lagged mean of responder_{i}: {distance_corr}')\n",
    "    "
   ],
   "id": "14269ac3e9af322f",
   "outputs": [],
   "execution_count": null
  },
  {
   "metadata": {},
   "cell_type": "markdown",
   "source": "There seems to be low signal in these lagged means. We'll use them as features and see what happens during feature selection.",
   "id": "5beec81fb1a06ce5"
  },
  {
   "metadata": {},
   "cell_type": "markdown",
   "source": "### Some feature engineering",
   "id": "15d9a660375ebb3e"
  },
  {
   "metadata": {},
   "cell_type": "code",
   "source": [
    "# Mean, max, min, and std of features\n",
    "feature_columns = [f'feature_{i:02}' for i in range(79) if i not in [9, 10, 11]]  # exclude the integer columns\n",
    "df_train_with_features = df_train.with_columns(\n",
    "    feature_mean=pl.mean_horizontal(feature_columns),\n",
    "    feature_min=pl.min_horizontal(feature_columns),\n",
    "    feature_max=pl.max_horizontal(feature_columns),\n",
    "    feature_std=pl.concat_list(feature_columns).list.std()\n",
    ")"
   ],
   "id": "76b63343836141d8",
   "outputs": [],
   "execution_count": null
  },
  {
   "metadata": {},
   "cell_type": "code",
   "source": [
    "for feature in ['feature_mean', 'feature_min', 'feature_max', 'feature_std']:\n",
    "    df_train_with_features_subset = df_train_with_features.select([\"responder_6\", feature]).drop_nulls()\n",
    "    \n",
    "    distance_corr = dcor.distance_correlation(np.array(df_train_with_features_subset['responder_6'], dtype='float64'), np.array(df_train_with_features_subset[feature], dtype='float64'))\n",
    "    \n",
    "    print(f'distance correlation with {feature}: {distance_corr}')"
   ],
   "id": "2220c81a892e0888",
   "outputs": [],
   "execution_count": null
  },
  {
   "metadata": {},
   "cell_type": "markdown",
   "source": "These look like great features, let's use them.",
   "id": "547d314acd5cec12"
  },
  {
   "metadata": {},
   "cell_type": "markdown",
   "source": "### Correlation with fundamental variables",
   "id": "1c429deb49b08ac4"
  },
  {
   "metadata": {},
   "cell_type": "code",
   "source": [
    "for feature in ['date_id', 'time_id', 'symbol_id', 'weight']:\n",
    "    df_train_with_features_subset = df_train_with_features.select([\"responder_6\", feature]).drop_nulls()\n",
    "    \n",
    "    distance_corr = dcor.distance_correlation(np.array(df_train_with_features_subset['responder_6'], dtype='float64'), np.array(df_train_with_features_subset[feature], dtype='float64'))\n",
    "    \n",
    "    print(f'distance correlation with {feature}: {distance_corr}')"
   ],
   "id": "f23a1da0334b1f3b",
   "outputs": [],
   "execution_count": null
  },
  {
   "metadata": {},
   "cell_type": "markdown",
   "source": "The fundamental variables show low-ish distance correlation. We'll still use them as features and see what happens during feature selection. Exception: `date_id` since it will not be stationary (and doesn't look too useful).",
   "id": "7d62e5ceb1dad014"
  }
 ],
 "metadata": {
  "kernelspec": {
   "display_name": "Python 3",
   "language": "python",
   "name": "python3"
  },
  "language_info": {
   "codemirror_mode": {
    "name": "ipython",
    "version": 2
   },
   "file_extension": ".py",
   "mimetype": "text/x-python",
   "name": "python",
   "nbconvert_exporter": "python",
   "pygments_lexer": "ipython2",
   "version": "2.7.6"
  }
 },
 "nbformat": 4,
 "nbformat_minor": 5
}
